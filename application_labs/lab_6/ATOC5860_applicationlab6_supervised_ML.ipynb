{
  "cells": [
    {
      "cell_type": "markdown",
      "metadata": {
        "id": "iQso4Ky6PePu"
      },
      "source": [
        "#  ATOC5860 Application Lab #6 - supervised_ML\n",
        "##### Written by Dr. Middlemas (formerly CU, now PricewaterhouseCoopers) with commenting from Prof. Kay (CU)\n",
        "##### last updated April 18, 2023 - works with environment - environment.yml\n",
        "\n",
        "### LEARNING GOALS:\n",
        "1.\tBuild familiarity with the data processing pipeline (workflow) required to utilize supervised machine learning techniques.\n",
        "2.\tImplement and compare four different supervised learning algorithms \n",
        "3.\tUnderstanding two outcomes of supervised learning algorithms: prediction and feature importance.\n",
        "4.\tStart building a foundation for future machine learning including the following terms: cross-validation, training vs. testing data, metrics (accuracy, recall, precision, f1 score, etc.), overfitting/underfitting, balancing datasets, hyperparameters, & feature importance.  Some future learning resources are provided… but there’s a lot available!  Share resources you find valuable.\n",
        "\n",
        "### DATA and UNDERLYING SCIENCE MOTIVATION:  \n",
        "\n",
        "We will use the Christman dataset which contains weather observations from Fort Collins, Colorado for the year 2016. We will build and train four machine learning models to predict something we already know from the dataset: Is it raining?. The point is not to conduct cutting-edge research or make novel predictions. Instead, the purpose here is to showcase supervised machine learning (ML) models and methods. By the end, we hope you can walk away with more confidence to learn and apply these tools to new problems.\n",
        "\n",
        "Let's say you want to determine which features or atmospheric variables are the best predictors of rainfall. Often, one simply regresses some metric of precipitation onto various atmospheric variables. Then, you assume that whatever returns the highest regression coefficient is the best predictor. While this approach with linear regression presents a fine first guess, it poses a few problems. Linear regression assumes: 1) atmospheric variables are linearly related to precipitation, 2) atmospheric variables are uncorrelated. Yet, both are false assumptions. While a linear relationship between predictor & predictand is a good first guess, why limit yourself to linearity when you can just as easily relax that assumption using supervised Machine Learning... \n",
        "\n",
        "This notebook will step through the following Machine Learning model pipeline:\n",
        "\n",
        "In this notebook, we will use supervised machine learning to **predict the likelihood of rainfall given certain atmospheric conditions**.  After prepping the data, we will build and train four supervised machine learning models to make the predictions: Logistic regression, Random Forest, Singular vector machines/classifier, Neural Network. Finally, we will determine which variable (\"feature\") is the best predictor of rainfall, i.e., we will assess \"feature importance\".\n",
        "\n",
        "Pros/Cons of the supervised machine learning models implemented here:\n",
        "1.\tLogistic regression tends to overgeneralize or underfit data, but is easy to implement, to understand and easy to back out feature importance.\n",
        "2.\tSingular Vector Machines are great at capturing complex relationships, but cannot back out feature importance. Plus, the use of the kernel makes them hard to interpret.\n",
        "3.\tRandom forests are easier to understand, generally do not overfit, and can capture complex relationships, and can provide feature importance, but they can be slow to train and there are a lot of hyperparameters to choose from.\n",
        "4.\tNeural Networks are great at capturing complex relationships. But they are slow to train and are susceptible to overfitting.\n",
        "\n",
        "**Questions to guide your analysis** \n",
        "\n",
        "1) Which machine learning model performs the best to predict rainfall?  What metrics did you use to make this assessment?\n",
        "  - The metrics that we use to evaluate the different methods are Accuracy, Recall and Precision. To calculate these metrics, we need to know the true/false positive/negative rates.  \n",
        "\n",
        "2) Describe the difference between accuracy and recall.  Why did we choose to use accuracy, recall, and predicted precipitation probability as a way to compare models?  In forecasting: when is a false positive (you said it would rain, it didn’t rain) preferred over a false negative (you said it wouldn’t rain, it did rain)? \n",
        "  - Accuracy is the proportion of both rain/no rain events that were correctly predicted, and recall is the proportion of just the raining hours that were correctly predicted. In this case, we may not care as much about correctly predicting when it will not rain, so recall may be more appropriate. \n",
        "\n",
        "3) One important \"gotcha\" in a machine learning workflow or pipeline is the order of data preparation. Why should one should perform the train-test split before feature scaling and rebalancing? Hint: think about using a trained model for future predictions. Do you want your scaling of the testing data to depend on the training data? Why perform a test-train split at all? \n",
        "  - A test-train split is important becuase we need to validate our model using data that it has not seen before. You do not want the scaling of the testing data to depend on the training data becuase you want your two samples to be as independent as possible. \n",
        "\n",
        "4) Collinearity, or non-zero correlation among features, results in a model that is overly complex, reduces the statistical significance of the fit of the model, and prevents one from correctly identifying the importance of features. Are there features included in our machine learning models to predict rain in the Christman dataset that are collinear? If so, how do you think we should address this collinearity? A couple of suggestions: If we don't have that many features, we could use our meteorological expertise to simply remove one of the features that shares collinearity with other features. Another way to address collinearity is to use feature regularization, or add weights that penalize features that add noise, ultimately reducing model complexity.\n",
        "  - Yes, there are variables in this dataset that are collinear. For example, temperature and dewpoint temperature are highly correlated, as are wind gust and wind speed. We could simplify the model by selecting just one of these variables. "
      ],
      "id": "iQso4Ky6PePu"
    },
    {
      "cell_type": "code",
      "execution_count": 2,
      "metadata": {
        "id": "D-We-aJMPePw"
      },
      "outputs": [],
      "source": [
        "import pandas as pd\n",
        "import numpy as np\n",
        "import datetime\n",
        "import time"
      ],
      "id": "D-We-aJMPePw"
    },
    {
      "cell_type": "code",
      "source": [
        "from google.colab import drive"
      ],
      "metadata": {
        "id": "Sl290PfaTlG7"
      },
      "id": "Sl290PfaTlG7",
      "execution_count": 3,
      "outputs": []
    },
    {
      "cell_type": "code",
      "source": [
        "drive.mount('/content/gdrive')"
      ],
      "metadata": {
        "colab": {
          "base_uri": "https://localhost:8080/"
        },
        "id": "gjLLCzjITnec",
        "outputId": "e07667e7-3d7a-4dbf-a9bd-54ea9228e98f"
      },
      "id": "gjLLCzjITnec",
      "execution_count": 4,
      "outputs": [
        {
          "output_type": "stream",
          "name": "stdout",
          "text": [
            "Mounted at /content/gdrive\n"
          ]
        }
      ]
    },
    {
      "cell_type": "markdown",
      "metadata": {
        "id": "1o0BZcB4PePx"
      },
      "source": [],
      "id": "1o0BZcB4PePx"
    },
    {
      "cell_type": "markdown",
      "metadata": {
        "id": "7BlvMp6SPePx"
      },
      "source": [
        "## STEP 1: Read in the Data into a pandas dataframe and Look At It"
      ],
      "id": "7BlvMp6SPePx"
    },
    {
      "cell_type": "code",
      "execution_count": 5,
      "metadata": {
        "id": "lLHHrsNdPePy",
        "outputId": "e9f8bbba-02ea-449e-f3fc-ec68c48d2fa4",
        "colab": {
          "base_uri": "https://localhost:8080/",
          "height": 468
        }
      },
      "outputs": [
        {
          "output_type": "execute_result",
          "data": {
            "text/plain": [
              "        day      hour  temp_F    RH  dewtemp_F  wind_mph  wind_dir  windgust  \\\n",
              "0     42370  0.000000     7.0  72.2       -0.1       1.2       234       3.9   \n",
              "1     42370  0.041667     5.4  74.3       -1.0       3.4       299       7.1   \n",
              "2     42370  0.083333     6.4  73.8       -0.2       2.8       200       7.0   \n",
              "3     42370  0.125000     3.0  73.5       -3.6       2.9       309       6.1   \n",
              "4     42370  0.166667     3.7  76.9       -1.9       3.1       346       5.3   \n",
              "...     ...       ...     ...   ...        ...       ...       ...       ...   \n",
              "8779  42735  0.791667    22.3  74.3       15.4       0.9       221       3.3   \n",
              "8780  42735  0.833333    20.3  80.4       15.3       0.6       279       2.9   \n",
              "8781  42735  0.875000    19.9  81.1       15.1       0.5       197       2.5   \n",
              "8782  42735  0.916667    17.8  82.8       13.5       2.0       353       4.8   \n",
              "8783  42735  0.958333    16.3  84.1       12.4       1.0       191       4.9   \n",
              "\n",
              "      windgust_dir  pres_Hg  SOLIN_Wm2  Prec_inches  \n",
              "0              224   851.30        0.0          0.0  \n",
              "1              302   850.82        0.0          0.0  \n",
              "2              301   849.83        0.0          0.0  \n",
              "3              349   850.69        0.0          0.0  \n",
              "4              255   848.24        0.0          0.0  \n",
              "...            ...      ...        ...          ...  \n",
              "8779           202   833.32        0.0          0.0  \n",
              "8780           279   833.45        0.1          0.0  \n",
              "8781           279   833.01        0.1          0.0  \n",
              "8782           352   832.78        0.1          0.0  \n",
              "8783           353   832.62        0.0          0.0  \n",
              "\n",
              "[8784 rows x 12 columns]"
            ],
            "text/html": [
              "\n",
              "  <div id=\"df-8628047b-7e6d-409f-9482-3a4998297100\">\n",
              "    <div class=\"colab-df-container\">\n",
              "      <div>\n",
              "<style scoped>\n",
              "    .dataframe tbody tr th:only-of-type {\n",
              "        vertical-align: middle;\n",
              "    }\n",
              "\n",
              "    .dataframe tbody tr th {\n",
              "        vertical-align: top;\n",
              "    }\n",
              "\n",
              "    .dataframe thead th {\n",
              "        text-align: right;\n",
              "    }\n",
              "</style>\n",
              "<table border=\"1\" class=\"dataframe\">\n",
              "  <thead>\n",
              "    <tr style=\"text-align: right;\">\n",
              "      <th></th>\n",
              "      <th>day</th>\n",
              "      <th>hour</th>\n",
              "      <th>temp_F</th>\n",
              "      <th>RH</th>\n",
              "      <th>dewtemp_F</th>\n",
              "      <th>wind_mph</th>\n",
              "      <th>wind_dir</th>\n",
              "      <th>windgust</th>\n",
              "      <th>windgust_dir</th>\n",
              "      <th>pres_Hg</th>\n",
              "      <th>SOLIN_Wm2</th>\n",
              "      <th>Prec_inches</th>\n",
              "    </tr>\n",
              "  </thead>\n",
              "  <tbody>\n",
              "    <tr>\n",
              "      <th>0</th>\n",
              "      <td>42370</td>\n",
              "      <td>0.000000</td>\n",
              "      <td>7.0</td>\n",
              "      <td>72.2</td>\n",
              "      <td>-0.1</td>\n",
              "      <td>1.2</td>\n",
              "      <td>234</td>\n",
              "      <td>3.9</td>\n",
              "      <td>224</td>\n",
              "      <td>851.30</td>\n",
              "      <td>0.0</td>\n",
              "      <td>0.0</td>\n",
              "    </tr>\n",
              "    <tr>\n",
              "      <th>1</th>\n",
              "      <td>42370</td>\n",
              "      <td>0.041667</td>\n",
              "      <td>5.4</td>\n",
              "      <td>74.3</td>\n",
              "      <td>-1.0</td>\n",
              "      <td>3.4</td>\n",
              "      <td>299</td>\n",
              "      <td>7.1</td>\n",
              "      <td>302</td>\n",
              "      <td>850.82</td>\n",
              "      <td>0.0</td>\n",
              "      <td>0.0</td>\n",
              "    </tr>\n",
              "    <tr>\n",
              "      <th>2</th>\n",
              "      <td>42370</td>\n",
              "      <td>0.083333</td>\n",
              "      <td>6.4</td>\n",
              "      <td>73.8</td>\n",
              "      <td>-0.2</td>\n",
              "      <td>2.8</td>\n",
              "      <td>200</td>\n",
              "      <td>7.0</td>\n",
              "      <td>301</td>\n",
              "      <td>849.83</td>\n",
              "      <td>0.0</td>\n",
              "      <td>0.0</td>\n",
              "    </tr>\n",
              "    <tr>\n",
              "      <th>3</th>\n",
              "      <td>42370</td>\n",
              "      <td>0.125000</td>\n",
              "      <td>3.0</td>\n",
              "      <td>73.5</td>\n",
              "      <td>-3.6</td>\n",
              "      <td>2.9</td>\n",
              "      <td>309</td>\n",
              "      <td>6.1</td>\n",
              "      <td>349</td>\n",
              "      <td>850.69</td>\n",
              "      <td>0.0</td>\n",
              "      <td>0.0</td>\n",
              "    </tr>\n",
              "    <tr>\n",
              "      <th>4</th>\n",
              "      <td>42370</td>\n",
              "      <td>0.166667</td>\n",
              "      <td>3.7</td>\n",
              "      <td>76.9</td>\n",
              "      <td>-1.9</td>\n",
              "      <td>3.1</td>\n",
              "      <td>346</td>\n",
              "      <td>5.3</td>\n",
              "      <td>255</td>\n",
              "      <td>848.24</td>\n",
              "      <td>0.0</td>\n",
              "      <td>0.0</td>\n",
              "    </tr>\n",
              "    <tr>\n",
              "      <th>...</th>\n",
              "      <td>...</td>\n",
              "      <td>...</td>\n",
              "      <td>...</td>\n",
              "      <td>...</td>\n",
              "      <td>...</td>\n",
              "      <td>...</td>\n",
              "      <td>...</td>\n",
              "      <td>...</td>\n",
              "      <td>...</td>\n",
              "      <td>...</td>\n",
              "      <td>...</td>\n",
              "      <td>...</td>\n",
              "    </tr>\n",
              "    <tr>\n",
              "      <th>8779</th>\n",
              "      <td>42735</td>\n",
              "      <td>0.791667</td>\n",
              "      <td>22.3</td>\n",
              "      <td>74.3</td>\n",
              "      <td>15.4</td>\n",
              "      <td>0.9</td>\n",
              "      <td>221</td>\n",
              "      <td>3.3</td>\n",
              "      <td>202</td>\n",
              "      <td>833.32</td>\n",
              "      <td>0.0</td>\n",
              "      <td>0.0</td>\n",
              "    </tr>\n",
              "    <tr>\n",
              "      <th>8780</th>\n",
              "      <td>42735</td>\n",
              "      <td>0.833333</td>\n",
              "      <td>20.3</td>\n",
              "      <td>80.4</td>\n",
              "      <td>15.3</td>\n",
              "      <td>0.6</td>\n",
              "      <td>279</td>\n",
              "      <td>2.9</td>\n",
              "      <td>279</td>\n",
              "      <td>833.45</td>\n",
              "      <td>0.1</td>\n",
              "      <td>0.0</td>\n",
              "    </tr>\n",
              "    <tr>\n",
              "      <th>8781</th>\n",
              "      <td>42735</td>\n",
              "      <td>0.875000</td>\n",
              "      <td>19.9</td>\n",
              "      <td>81.1</td>\n",
              "      <td>15.1</td>\n",
              "      <td>0.5</td>\n",
              "      <td>197</td>\n",
              "      <td>2.5</td>\n",
              "      <td>279</td>\n",
              "      <td>833.01</td>\n",
              "      <td>0.1</td>\n",
              "      <td>0.0</td>\n",
              "    </tr>\n",
              "    <tr>\n",
              "      <th>8782</th>\n",
              "      <td>42735</td>\n",
              "      <td>0.916667</td>\n",
              "      <td>17.8</td>\n",
              "      <td>82.8</td>\n",
              "      <td>13.5</td>\n",
              "      <td>2.0</td>\n",
              "      <td>353</td>\n",
              "      <td>4.8</td>\n",
              "      <td>352</td>\n",
              "      <td>832.78</td>\n",
              "      <td>0.1</td>\n",
              "      <td>0.0</td>\n",
              "    </tr>\n",
              "    <tr>\n",
              "      <th>8783</th>\n",
              "      <td>42735</td>\n",
              "      <td>0.958333</td>\n",
              "      <td>16.3</td>\n",
              "      <td>84.1</td>\n",
              "      <td>12.4</td>\n",
              "      <td>1.0</td>\n",
              "      <td>191</td>\n",
              "      <td>4.9</td>\n",
              "      <td>353</td>\n",
              "      <td>832.62</td>\n",
              "      <td>0.0</td>\n",
              "      <td>0.0</td>\n",
              "    </tr>\n",
              "  </tbody>\n",
              "</table>\n",
              "<p>8784 rows × 12 columns</p>\n",
              "</div>\n",
              "      <button class=\"colab-df-convert\" onclick=\"convertToInteractive('df-8628047b-7e6d-409f-9482-3a4998297100')\"\n",
              "              title=\"Convert this dataframe to an interactive table.\"\n",
              "              style=\"display:none;\">\n",
              "        \n",
              "  <svg xmlns=\"http://www.w3.org/2000/svg\" height=\"24px\"viewBox=\"0 0 24 24\"\n",
              "       width=\"24px\">\n",
              "    <path d=\"M0 0h24v24H0V0z\" fill=\"none\"/>\n",
              "    <path d=\"M18.56 5.44l.94 2.06.94-2.06 2.06-.94-2.06-.94-.94-2.06-.94 2.06-2.06.94zm-11 1L8.5 8.5l.94-2.06 2.06-.94-2.06-.94L8.5 2.5l-.94 2.06-2.06.94zm10 10l.94 2.06.94-2.06 2.06-.94-2.06-.94-.94-2.06-.94 2.06-2.06.94z\"/><path d=\"M17.41 7.96l-1.37-1.37c-.4-.4-.92-.59-1.43-.59-.52 0-1.04.2-1.43.59L10.3 9.45l-7.72 7.72c-.78.78-.78 2.05 0 2.83L4 21.41c.39.39.9.59 1.41.59.51 0 1.02-.2 1.41-.59l7.78-7.78 2.81-2.81c.8-.78.8-2.07 0-2.86zM5.41 20L4 18.59l7.72-7.72 1.47 1.35L5.41 20z\"/>\n",
              "  </svg>\n",
              "      </button>\n",
              "      \n",
              "  <style>\n",
              "    .colab-df-container {\n",
              "      display:flex;\n",
              "      flex-wrap:wrap;\n",
              "      gap: 12px;\n",
              "    }\n",
              "\n",
              "    .colab-df-convert {\n",
              "      background-color: #E8F0FE;\n",
              "      border: none;\n",
              "      border-radius: 50%;\n",
              "      cursor: pointer;\n",
              "      display: none;\n",
              "      fill: #1967D2;\n",
              "      height: 32px;\n",
              "      padding: 0 0 0 0;\n",
              "      width: 32px;\n",
              "    }\n",
              "\n",
              "    .colab-df-convert:hover {\n",
              "      background-color: #E2EBFA;\n",
              "      box-shadow: 0px 1px 2px rgba(60, 64, 67, 0.3), 0px 1px 3px 1px rgba(60, 64, 67, 0.15);\n",
              "      fill: #174EA6;\n",
              "    }\n",
              "\n",
              "    [theme=dark] .colab-df-convert {\n",
              "      background-color: #3B4455;\n",
              "      fill: #D2E3FC;\n",
              "    }\n",
              "\n",
              "    [theme=dark] .colab-df-convert:hover {\n",
              "      background-color: #434B5C;\n",
              "      box-shadow: 0px 1px 3px 1px rgba(0, 0, 0, 0.15);\n",
              "      filter: drop-shadow(0px 1px 2px rgba(0, 0, 0, 0.3));\n",
              "      fill: #FFFFFF;\n",
              "    }\n",
              "  </style>\n",
              "\n",
              "      <script>\n",
              "        const buttonEl =\n",
              "          document.querySelector('#df-8628047b-7e6d-409f-9482-3a4998297100 button.colab-df-convert');\n",
              "        buttonEl.style.display =\n",
              "          google.colab.kernel.accessAllowed ? 'block' : 'none';\n",
              "\n",
              "        async function convertToInteractive(key) {\n",
              "          const element = document.querySelector('#df-8628047b-7e6d-409f-9482-3a4998297100');\n",
              "          const dataTable =\n",
              "            await google.colab.kernel.invokeFunction('convertToInteractive',\n",
              "                                                     [key], {});\n",
              "          if (!dataTable) return;\n",
              "\n",
              "          const docLinkHtml = 'Like what you see? Visit the ' +\n",
              "            '<a target=\"_blank\" href=https://colab.research.google.com/notebooks/data_table.ipynb>data table notebook</a>'\n",
              "            + ' to learn more about interactive tables.';\n",
              "          element.innerHTML = '';\n",
              "          dataTable['output_type'] = 'display_data';\n",
              "          await google.colab.output.renderOutput(dataTable, element);\n",
              "          const docLink = document.createElement('div');\n",
              "          docLink.innerHTML = docLinkHtml;\n",
              "          element.appendChild(docLink);\n",
              "        }\n",
              "      </script>\n",
              "    </div>\n",
              "  </div>\n",
              "  "
            ]
          },
          "metadata": {},
          "execution_count": 5
        }
      ],
      "source": [
        "# read in the data\n",
        "df = pd.read_csv(\"/content/gdrive/My Drive/Colab Notebooks/christman_2016.csv\")\n",
        "# preview data (also through df.head() & df.tail())\n",
        "df"
      ],
      "id": "lLHHrsNdPePy"
    },
    {
      "cell_type": "code",
      "source": [
        "df.corr()"
      ],
      "metadata": {
        "colab": {
          "base_uri": "https://localhost:8080/",
          "height": 663
        },
        "id": "c3YPnp6R4L9C",
        "outputId": "a273e267-5076-495e-8b1a-e1da5da75862"
      },
      "id": "c3YPnp6R4L9C",
      "execution_count": 6,
      "outputs": [
        {
          "output_type": "execute_result",
          "data": {
            "text/plain": [
              "                       day          hour    temp_F        RH  dewtemp_F  \\\n",
              "day           1.000000e+00 -2.203312e-15  0.138793 -0.071413   0.108642   \n",
              "hour         -2.203312e-15  1.000000e+00  0.212004 -0.266057   0.039716   \n",
              "temp_F        1.387932e-01  2.120043e-01  1.000000 -0.574153   0.719704   \n",
              "RH           -7.141286e-02 -2.660574e-01 -0.574153  1.000000   0.122254   \n",
              "dewtemp_F     1.086415e-01  3.971598e-02  0.719704  0.122254   1.000000   \n",
              "wind_mph     -9.610770e-02  1.492733e-01  0.162699 -0.373648  -0.128574   \n",
              "wind_dir     -5.018307e-02 -5.218744e-02 -0.167712  0.104435  -0.114743   \n",
              "windgust     -7.964987e-02  1.600889e-01  0.202120 -0.427262  -0.124749   \n",
              "windgust_dir -5.962837e-02 -9.232583e-02 -0.194735  0.097726  -0.148474   \n",
              "pres_Hg       1.091553e-01 -3.626872e-02  0.021894  0.071043   0.100892   \n",
              "SOLIN_Wm2    -3.568343e-02  8.362642e-02  0.478878 -0.517120   0.121729   \n",
              "Prec_inches  -3.511896e-02  1.412461e-02 -0.024359  0.133400   0.063666   \n",
              "\n",
              "              wind_mph  wind_dir  windgust  windgust_dir   pres_Hg  SOLIN_Wm2  \\\n",
              "day          -0.096108 -0.050183 -0.079650     -0.059628  0.109155  -0.035683   \n",
              "hour          0.149273 -0.052187  0.160089     -0.092326 -0.036269   0.083626   \n",
              "temp_F        0.162699 -0.167712  0.202120     -0.194735  0.021894   0.478878   \n",
              "RH           -0.373648  0.104435 -0.427262      0.097726  0.071043  -0.517120   \n",
              "dewtemp_F    -0.128574 -0.114743 -0.124749     -0.148474  0.100892   0.121729   \n",
              "wind_mph      1.000000  0.186733  0.937955      0.189608 -0.263157   0.198731   \n",
              "wind_dir      0.186733  1.000000  0.146122      0.500626 -0.052449  -0.285403   \n",
              "windgust      0.937955  0.146122  1.000000      0.151925 -0.304600   0.206826   \n",
              "windgust_dir  0.189608  0.500626  0.151925      1.000000 -0.054304  -0.304850   \n",
              "pres_Hg      -0.263157 -0.052449 -0.304600     -0.054304  1.000000   0.045774   \n",
              "SOLIN_Wm2     0.198731 -0.285403  0.206826     -0.304850  0.045774   1.000000   \n",
              "Prec_inches   0.063152  0.039348  0.072187      0.020689 -0.041725  -0.045631   \n",
              "\n",
              "              Prec_inches  \n",
              "day             -0.035119  \n",
              "hour             0.014125  \n",
              "temp_F          -0.024359  \n",
              "RH               0.133400  \n",
              "dewtemp_F        0.063666  \n",
              "wind_mph         0.063152  \n",
              "wind_dir         0.039348  \n",
              "windgust         0.072187  \n",
              "windgust_dir     0.020689  \n",
              "pres_Hg         -0.041725  \n",
              "SOLIN_Wm2       -0.045631  \n",
              "Prec_inches      1.000000  "
            ],
            "text/html": [
              "\n",
              "  <div id=\"df-c7236f29-41ed-42a0-b371-7756389cb378\">\n",
              "    <div class=\"colab-df-container\">\n",
              "      <div>\n",
              "<style scoped>\n",
              "    .dataframe tbody tr th:only-of-type {\n",
              "        vertical-align: middle;\n",
              "    }\n",
              "\n",
              "    .dataframe tbody tr th {\n",
              "        vertical-align: top;\n",
              "    }\n",
              "\n",
              "    .dataframe thead th {\n",
              "        text-align: right;\n",
              "    }\n",
              "</style>\n",
              "<table border=\"1\" class=\"dataframe\">\n",
              "  <thead>\n",
              "    <tr style=\"text-align: right;\">\n",
              "      <th></th>\n",
              "      <th>day</th>\n",
              "      <th>hour</th>\n",
              "      <th>temp_F</th>\n",
              "      <th>RH</th>\n",
              "      <th>dewtemp_F</th>\n",
              "      <th>wind_mph</th>\n",
              "      <th>wind_dir</th>\n",
              "      <th>windgust</th>\n",
              "      <th>windgust_dir</th>\n",
              "      <th>pres_Hg</th>\n",
              "      <th>SOLIN_Wm2</th>\n",
              "      <th>Prec_inches</th>\n",
              "    </tr>\n",
              "  </thead>\n",
              "  <tbody>\n",
              "    <tr>\n",
              "      <th>day</th>\n",
              "      <td>1.000000e+00</td>\n",
              "      <td>-2.203312e-15</td>\n",
              "      <td>0.138793</td>\n",
              "      <td>-0.071413</td>\n",
              "      <td>0.108642</td>\n",
              "      <td>-0.096108</td>\n",
              "      <td>-0.050183</td>\n",
              "      <td>-0.079650</td>\n",
              "      <td>-0.059628</td>\n",
              "      <td>0.109155</td>\n",
              "      <td>-0.035683</td>\n",
              "      <td>-0.035119</td>\n",
              "    </tr>\n",
              "    <tr>\n",
              "      <th>hour</th>\n",
              "      <td>-2.203312e-15</td>\n",
              "      <td>1.000000e+00</td>\n",
              "      <td>0.212004</td>\n",
              "      <td>-0.266057</td>\n",
              "      <td>0.039716</td>\n",
              "      <td>0.149273</td>\n",
              "      <td>-0.052187</td>\n",
              "      <td>0.160089</td>\n",
              "      <td>-0.092326</td>\n",
              "      <td>-0.036269</td>\n",
              "      <td>0.083626</td>\n",
              "      <td>0.014125</td>\n",
              "    </tr>\n",
              "    <tr>\n",
              "      <th>temp_F</th>\n",
              "      <td>1.387932e-01</td>\n",
              "      <td>2.120043e-01</td>\n",
              "      <td>1.000000</td>\n",
              "      <td>-0.574153</td>\n",
              "      <td>0.719704</td>\n",
              "      <td>0.162699</td>\n",
              "      <td>-0.167712</td>\n",
              "      <td>0.202120</td>\n",
              "      <td>-0.194735</td>\n",
              "      <td>0.021894</td>\n",
              "      <td>0.478878</td>\n",
              "      <td>-0.024359</td>\n",
              "    </tr>\n",
              "    <tr>\n",
              "      <th>RH</th>\n",
              "      <td>-7.141286e-02</td>\n",
              "      <td>-2.660574e-01</td>\n",
              "      <td>-0.574153</td>\n",
              "      <td>1.000000</td>\n",
              "      <td>0.122254</td>\n",
              "      <td>-0.373648</td>\n",
              "      <td>0.104435</td>\n",
              "      <td>-0.427262</td>\n",
              "      <td>0.097726</td>\n",
              "      <td>0.071043</td>\n",
              "      <td>-0.517120</td>\n",
              "      <td>0.133400</td>\n",
              "    </tr>\n",
              "    <tr>\n",
              "      <th>dewtemp_F</th>\n",
              "      <td>1.086415e-01</td>\n",
              "      <td>3.971598e-02</td>\n",
              "      <td>0.719704</td>\n",
              "      <td>0.122254</td>\n",
              "      <td>1.000000</td>\n",
              "      <td>-0.128574</td>\n",
              "      <td>-0.114743</td>\n",
              "      <td>-0.124749</td>\n",
              "      <td>-0.148474</td>\n",
              "      <td>0.100892</td>\n",
              "      <td>0.121729</td>\n",
              "      <td>0.063666</td>\n",
              "    </tr>\n",
              "    <tr>\n",
              "      <th>wind_mph</th>\n",
              "      <td>-9.610770e-02</td>\n",
              "      <td>1.492733e-01</td>\n",
              "      <td>0.162699</td>\n",
              "      <td>-0.373648</td>\n",
              "      <td>-0.128574</td>\n",
              "      <td>1.000000</td>\n",
              "      <td>0.186733</td>\n",
              "      <td>0.937955</td>\n",
              "      <td>0.189608</td>\n",
              "      <td>-0.263157</td>\n",
              "      <td>0.198731</td>\n",
              "      <td>0.063152</td>\n",
              "    </tr>\n",
              "    <tr>\n",
              "      <th>wind_dir</th>\n",
              "      <td>-5.018307e-02</td>\n",
              "      <td>-5.218744e-02</td>\n",
              "      <td>-0.167712</td>\n",
              "      <td>0.104435</td>\n",
              "      <td>-0.114743</td>\n",
              "      <td>0.186733</td>\n",
              "      <td>1.000000</td>\n",
              "      <td>0.146122</td>\n",
              "      <td>0.500626</td>\n",
              "      <td>-0.052449</td>\n",
              "      <td>-0.285403</td>\n",
              "      <td>0.039348</td>\n",
              "    </tr>\n",
              "    <tr>\n",
              "      <th>windgust</th>\n",
              "      <td>-7.964987e-02</td>\n",
              "      <td>1.600889e-01</td>\n",
              "      <td>0.202120</td>\n",
              "      <td>-0.427262</td>\n",
              "      <td>-0.124749</td>\n",
              "      <td>0.937955</td>\n",
              "      <td>0.146122</td>\n",
              "      <td>1.000000</td>\n",
              "      <td>0.151925</td>\n",
              "      <td>-0.304600</td>\n",
              "      <td>0.206826</td>\n",
              "      <td>0.072187</td>\n",
              "    </tr>\n",
              "    <tr>\n",
              "      <th>windgust_dir</th>\n",
              "      <td>-5.962837e-02</td>\n",
              "      <td>-9.232583e-02</td>\n",
              "      <td>-0.194735</td>\n",
              "      <td>0.097726</td>\n",
              "      <td>-0.148474</td>\n",
              "      <td>0.189608</td>\n",
              "      <td>0.500626</td>\n",
              "      <td>0.151925</td>\n",
              "      <td>1.000000</td>\n",
              "      <td>-0.054304</td>\n",
              "      <td>-0.304850</td>\n",
              "      <td>0.020689</td>\n",
              "    </tr>\n",
              "    <tr>\n",
              "      <th>pres_Hg</th>\n",
              "      <td>1.091553e-01</td>\n",
              "      <td>-3.626872e-02</td>\n",
              "      <td>0.021894</td>\n",
              "      <td>0.071043</td>\n",
              "      <td>0.100892</td>\n",
              "      <td>-0.263157</td>\n",
              "      <td>-0.052449</td>\n",
              "      <td>-0.304600</td>\n",
              "      <td>-0.054304</td>\n",
              "      <td>1.000000</td>\n",
              "      <td>0.045774</td>\n",
              "      <td>-0.041725</td>\n",
              "    </tr>\n",
              "    <tr>\n",
              "      <th>SOLIN_Wm2</th>\n",
              "      <td>-3.568343e-02</td>\n",
              "      <td>8.362642e-02</td>\n",
              "      <td>0.478878</td>\n",
              "      <td>-0.517120</td>\n",
              "      <td>0.121729</td>\n",
              "      <td>0.198731</td>\n",
              "      <td>-0.285403</td>\n",
              "      <td>0.206826</td>\n",
              "      <td>-0.304850</td>\n",
              "      <td>0.045774</td>\n",
              "      <td>1.000000</td>\n",
              "      <td>-0.045631</td>\n",
              "    </tr>\n",
              "    <tr>\n",
              "      <th>Prec_inches</th>\n",
              "      <td>-3.511896e-02</td>\n",
              "      <td>1.412461e-02</td>\n",
              "      <td>-0.024359</td>\n",
              "      <td>0.133400</td>\n",
              "      <td>0.063666</td>\n",
              "      <td>0.063152</td>\n",
              "      <td>0.039348</td>\n",
              "      <td>0.072187</td>\n",
              "      <td>0.020689</td>\n",
              "      <td>-0.041725</td>\n",
              "      <td>-0.045631</td>\n",
              "      <td>1.000000</td>\n",
              "    </tr>\n",
              "  </tbody>\n",
              "</table>\n",
              "</div>\n",
              "      <button class=\"colab-df-convert\" onclick=\"convertToInteractive('df-c7236f29-41ed-42a0-b371-7756389cb378')\"\n",
              "              title=\"Convert this dataframe to an interactive table.\"\n",
              "              style=\"display:none;\">\n",
              "        \n",
              "  <svg xmlns=\"http://www.w3.org/2000/svg\" height=\"24px\"viewBox=\"0 0 24 24\"\n",
              "       width=\"24px\">\n",
              "    <path d=\"M0 0h24v24H0V0z\" fill=\"none\"/>\n",
              "    <path d=\"M18.56 5.44l.94 2.06.94-2.06 2.06-.94-2.06-.94-.94-2.06-.94 2.06-2.06.94zm-11 1L8.5 8.5l.94-2.06 2.06-.94-2.06-.94L8.5 2.5l-.94 2.06-2.06.94zm10 10l.94 2.06.94-2.06 2.06-.94-2.06-.94-.94-2.06-.94 2.06-2.06.94z\"/><path d=\"M17.41 7.96l-1.37-1.37c-.4-.4-.92-.59-1.43-.59-.52 0-1.04.2-1.43.59L10.3 9.45l-7.72 7.72c-.78.78-.78 2.05 0 2.83L4 21.41c.39.39.9.59 1.41.59.51 0 1.02-.2 1.41-.59l7.78-7.78 2.81-2.81c.8-.78.8-2.07 0-2.86zM5.41 20L4 18.59l7.72-7.72 1.47 1.35L5.41 20z\"/>\n",
              "  </svg>\n",
              "      </button>\n",
              "      \n",
              "  <style>\n",
              "    .colab-df-container {\n",
              "      display:flex;\n",
              "      flex-wrap:wrap;\n",
              "      gap: 12px;\n",
              "    }\n",
              "\n",
              "    .colab-df-convert {\n",
              "      background-color: #E8F0FE;\n",
              "      border: none;\n",
              "      border-radius: 50%;\n",
              "      cursor: pointer;\n",
              "      display: none;\n",
              "      fill: #1967D2;\n",
              "      height: 32px;\n",
              "      padding: 0 0 0 0;\n",
              "      width: 32px;\n",
              "    }\n",
              "\n",
              "    .colab-df-convert:hover {\n",
              "      background-color: #E2EBFA;\n",
              "      box-shadow: 0px 1px 2px rgba(60, 64, 67, 0.3), 0px 1px 3px 1px rgba(60, 64, 67, 0.15);\n",
              "      fill: #174EA6;\n",
              "    }\n",
              "\n",
              "    [theme=dark] .colab-df-convert {\n",
              "      background-color: #3B4455;\n",
              "      fill: #D2E3FC;\n",
              "    }\n",
              "\n",
              "    [theme=dark] .colab-df-convert:hover {\n",
              "      background-color: #434B5C;\n",
              "      box-shadow: 0px 1px 3px 1px rgba(0, 0, 0, 0.15);\n",
              "      filter: drop-shadow(0px 1px 2px rgba(0, 0, 0, 0.3));\n",
              "      fill: #FFFFFF;\n",
              "    }\n",
              "  </style>\n",
              "\n",
              "      <script>\n",
              "        const buttonEl =\n",
              "          document.querySelector('#df-c7236f29-41ed-42a0-b371-7756389cb378 button.colab-df-convert');\n",
              "        buttonEl.style.display =\n",
              "          google.colab.kernel.accessAllowed ? 'block' : 'none';\n",
              "\n",
              "        async function convertToInteractive(key) {\n",
              "          const element = document.querySelector('#df-c7236f29-41ed-42a0-b371-7756389cb378');\n",
              "          const dataTable =\n",
              "            await google.colab.kernel.invokeFunction('convertToInteractive',\n",
              "                                                     [key], {});\n",
              "          if (!dataTable) return;\n",
              "\n",
              "          const docLinkHtml = 'Like what you see? Visit the ' +\n",
              "            '<a target=\"_blank\" href=https://colab.research.google.com/notebooks/data_table.ipynb>data table notebook</a>'\n",
              "            + ' to learn more about interactive tables.';\n",
              "          element.innerHTML = '';\n",
              "          dataTable['output_type'] = 'display_data';\n",
              "          await google.colab.output.renderOutput(dataTable, element);\n",
              "          const docLink = document.createElement('div');\n",
              "          docLink.innerHTML = docLinkHtml;\n",
              "          element.appendChild(docLink);\n",
              "        }\n",
              "      </script>\n",
              "    </div>\n",
              "  </div>\n",
              "  "
            ]
          },
          "metadata": {},
          "execution_count": 6
        }
      ]
    },
    {
      "cell_type": "code",
      "execution_count": null,
      "metadata": {
        "id": "tDGeukPXPePy",
        "outputId": "4f838e4a-1b6f-484a-fde6-76f9198d1522",
        "colab": {
          "base_uri": "https://localhost:8080/"
        }
      },
      "outputs": [
        {
          "output_type": "execute_result",
          "data": {
            "text/plain": [
              "366"
            ]
          },
          "metadata": {},
          "execution_count": 14
        }
      ],
      "source": [
        "df.day.nunique() ## Print the answer to: How many days are in this dataset?"
      ],
      "id": "tDGeukPXPePy"
    },
    {
      "cell_type": "code",
      "execution_count": null,
      "metadata": {
        "id": "-1sp9clDPePy"
      },
      "outputs": [],
      "source": [
        "##Optional: transform the day column into a readable date. Run this ONCE.\n",
        "df['day'] = [datetime.date.fromordinal(day+693594) for day in df['day']]"
      ],
      "id": "-1sp9clDPePy"
    },
    {
      "cell_type": "markdown",
      "metadata": {
        "id": "1LNhmxGBPePz"
      },
      "source": [
        "## STEP 2: Data and Function Preparation\n",
        "\n",
        "Data preparation is a huge part of building Machine Learning model \"pipelines\". Carefully think through building & training a Machine Learning model before you run it. There are a few statistical \"gotchas\" that may result in your model being biased, inaccurate, or not suitable for the problem at hand.  Address these 6 questions!\n",
        "\n",
        "**Q1: What exactly are we trying to predict? A value, an outcome, a category?** Define your predictors and predictand. Relate these to your hypothesis or overarching question. In our case, our predictand is the likelihood of precipitation. We will build models to predict the likelihood that it's currently precipitating, given current atmospheric conditions.\n",
        "\n",
        "**Q2: Do you have any missing data? If so, how will you handle them?** Keep in mind, decreasing the number of input observations may bias your model. Using the Christman dataset, we have no missing data.\n",
        "\n",
        "**Q3: Do you have any categorical or non-numeric variables or features?** If so, you must figure out how to encode them into numbers. Luckily, in the geosciences, we rarely run into this problem.\n",
        "\n",
        "**Q4: How will we validate our model?** Typically, people split their existing data into training data and testing data, or perform \"cross-validation\" or a \"test-train split\". That is, we will \"hold out\" some data and call it our \"testing data\", while using the rest of the data to train our model (i.e., \"training data\"). Once our model is trained, we will evaluate its performance with the holdout testing data. Note: This could be problematic if there is limited data.\n",
        "\n",
        "**Q5: Do your features have the same variance?** You need to consider this to ensure your model doesn't overly depend on one variable with large variance. This step is called \"feature scaling\". Features of the same size also speed up the Gradient Descent algorithm.\n",
        "\n",
        "**Q6: If classification is the goal, are there the same number of observations for each feature and outcome? If not, how will you rebalance?** Here, the Christman dataset has same number of observations (8784) for each feature. But, times with no precipitation are way more common than times with precipitation. To deal with this issue, we will oversample the observations associated with precip so that the two outcomes (or \"classes\") are equal. Note: It's important that feature scaling or normalization is performed before any rebalancing so that the qualitative statistics (mean, stddev, etc) remain the same.\n",
        "\n",
        "**Q7: Which metrics are appropriate for assessing your model?** Consider the bias-variance trade-off, and whether having false positives or false negatives is more impactful. In our case, predicting no rain when there is rain (false negative) is probably more frustrating and potentially more impactful than the other way around (a false positive)."
      ],
      "id": "1LNhmxGBPePz"
    },
    {
      "cell_type": "markdown",
      "metadata": {
        "id": "Lgfeb2ZaPePz"
      },
      "source": [
        "**Q1. What exactly are you trying to predict?**\n",
        "\n",
        "First, split data into predictor & predictands. "
      ],
      "id": "Lgfeb2ZaPePz"
    },
    {
      "cell_type": "code",
      "execution_count": null,
      "metadata": {
        "id": "ZjY0maPgPePz"
      },
      "outputs": [],
      "source": [
        "##Create a new feature that indicates whether precipitation occurred. Perform this step ONCE.\n",
        "#print(df.columns) # print if you need to see what is the variable called that indicates precipitation amount?\n",
        "df['prec_occur'] = np.array(df.Prec_inches!=0).astype(int)"
      ],
      "id": "ZjY0maPgPePz"
    },
    {
      "cell_type": "code",
      "execution_count": null,
      "metadata": {
        "id": "IU0H0Ym8PePz",
        "outputId": "4f6acc91-d1d0-4e44-f7bb-16441232b3c5",
        "colab": {
          "base_uri": "https://localhost:8080/",
          "height": 424
        }
      },
      "outputs": [
        {
          "output_type": "execute_result",
          "data": {
            "text/plain": [
              "      temp_F    RH  dewtemp_F  wind_mph  wind_dir  windgust  windgust_dir  \\\n",
              "0        7.0  72.2       -0.1       1.2       234       3.9           224   \n",
              "1        5.4  74.3       -1.0       3.4       299       7.1           302   \n",
              "2        6.4  73.8       -0.2       2.8       200       7.0           301   \n",
              "3        3.0  73.5       -3.6       2.9       309       6.1           349   \n",
              "4        3.7  76.9       -1.9       3.1       346       5.3           255   \n",
              "...      ...   ...        ...       ...       ...       ...           ...   \n",
              "8779    22.3  74.3       15.4       0.9       221       3.3           202   \n",
              "8780    20.3  80.4       15.3       0.6       279       2.9           279   \n",
              "8781    19.9  81.1       15.1       0.5       197       2.5           279   \n",
              "8782    17.8  82.8       13.5       2.0       353       4.8           352   \n",
              "8783    16.3  84.1       12.4       1.0       191       4.9           353   \n",
              "\n",
              "      pres_Hg  SOLIN_Wm2  prec_occur  \n",
              "0      851.30        0.0           0  \n",
              "1      850.82        0.0           0  \n",
              "2      849.83        0.0           0  \n",
              "3      850.69        0.0           0  \n",
              "4      848.24        0.0           0  \n",
              "...       ...        ...         ...  \n",
              "8779   833.32        0.0           0  \n",
              "8780   833.45        0.1           0  \n",
              "8781   833.01        0.1           0  \n",
              "8782   832.78        0.1           0  \n",
              "8783   832.62        0.0           0  \n",
              "\n",
              "[8784 rows x 10 columns]"
            ],
            "text/html": [
              "\n",
              "  <div id=\"df-7b0a4576-28b7-4e32-86a4-927e6b947353\">\n",
              "    <div class=\"colab-df-container\">\n",
              "      <div>\n",
              "<style scoped>\n",
              "    .dataframe tbody tr th:only-of-type {\n",
              "        vertical-align: middle;\n",
              "    }\n",
              "\n",
              "    .dataframe tbody tr th {\n",
              "        vertical-align: top;\n",
              "    }\n",
              "\n",
              "    .dataframe thead th {\n",
              "        text-align: right;\n",
              "    }\n",
              "</style>\n",
              "<table border=\"1\" class=\"dataframe\">\n",
              "  <thead>\n",
              "    <tr style=\"text-align: right;\">\n",
              "      <th></th>\n",
              "      <th>temp_F</th>\n",
              "      <th>RH</th>\n",
              "      <th>dewtemp_F</th>\n",
              "      <th>wind_mph</th>\n",
              "      <th>wind_dir</th>\n",
              "      <th>windgust</th>\n",
              "      <th>windgust_dir</th>\n",
              "      <th>pres_Hg</th>\n",
              "      <th>SOLIN_Wm2</th>\n",
              "      <th>prec_occur</th>\n",
              "    </tr>\n",
              "  </thead>\n",
              "  <tbody>\n",
              "    <tr>\n",
              "      <th>0</th>\n",
              "      <td>7.0</td>\n",
              "      <td>72.2</td>\n",
              "      <td>-0.1</td>\n",
              "      <td>1.2</td>\n",
              "      <td>234</td>\n",
              "      <td>3.9</td>\n",
              "      <td>224</td>\n",
              "      <td>851.30</td>\n",
              "      <td>0.0</td>\n",
              "      <td>0</td>\n",
              "    </tr>\n",
              "    <tr>\n",
              "      <th>1</th>\n",
              "      <td>5.4</td>\n",
              "      <td>74.3</td>\n",
              "      <td>-1.0</td>\n",
              "      <td>3.4</td>\n",
              "      <td>299</td>\n",
              "      <td>7.1</td>\n",
              "      <td>302</td>\n",
              "      <td>850.82</td>\n",
              "      <td>0.0</td>\n",
              "      <td>0</td>\n",
              "    </tr>\n",
              "    <tr>\n",
              "      <th>2</th>\n",
              "      <td>6.4</td>\n",
              "      <td>73.8</td>\n",
              "      <td>-0.2</td>\n",
              "      <td>2.8</td>\n",
              "      <td>200</td>\n",
              "      <td>7.0</td>\n",
              "      <td>301</td>\n",
              "      <td>849.83</td>\n",
              "      <td>0.0</td>\n",
              "      <td>0</td>\n",
              "    </tr>\n",
              "    <tr>\n",
              "      <th>3</th>\n",
              "      <td>3.0</td>\n",
              "      <td>73.5</td>\n",
              "      <td>-3.6</td>\n",
              "      <td>2.9</td>\n",
              "      <td>309</td>\n",
              "      <td>6.1</td>\n",
              "      <td>349</td>\n",
              "      <td>850.69</td>\n",
              "      <td>0.0</td>\n",
              "      <td>0</td>\n",
              "    </tr>\n",
              "    <tr>\n",
              "      <th>4</th>\n",
              "      <td>3.7</td>\n",
              "      <td>76.9</td>\n",
              "      <td>-1.9</td>\n",
              "      <td>3.1</td>\n",
              "      <td>346</td>\n",
              "      <td>5.3</td>\n",
              "      <td>255</td>\n",
              "      <td>848.24</td>\n",
              "      <td>0.0</td>\n",
              "      <td>0</td>\n",
              "    </tr>\n",
              "    <tr>\n",
              "      <th>...</th>\n",
              "      <td>...</td>\n",
              "      <td>...</td>\n",
              "      <td>...</td>\n",
              "      <td>...</td>\n",
              "      <td>...</td>\n",
              "      <td>...</td>\n",
              "      <td>...</td>\n",
              "      <td>...</td>\n",
              "      <td>...</td>\n",
              "      <td>...</td>\n",
              "    </tr>\n",
              "    <tr>\n",
              "      <th>8779</th>\n",
              "      <td>22.3</td>\n",
              "      <td>74.3</td>\n",
              "      <td>15.4</td>\n",
              "      <td>0.9</td>\n",
              "      <td>221</td>\n",
              "      <td>3.3</td>\n",
              "      <td>202</td>\n",
              "      <td>833.32</td>\n",
              "      <td>0.0</td>\n",
              "      <td>0</td>\n",
              "    </tr>\n",
              "    <tr>\n",
              "      <th>8780</th>\n",
              "      <td>20.3</td>\n",
              "      <td>80.4</td>\n",
              "      <td>15.3</td>\n",
              "      <td>0.6</td>\n",
              "      <td>279</td>\n",
              "      <td>2.9</td>\n",
              "      <td>279</td>\n",
              "      <td>833.45</td>\n",
              "      <td>0.1</td>\n",
              "      <td>0</td>\n",
              "    </tr>\n",
              "    <tr>\n",
              "      <th>8781</th>\n",
              "      <td>19.9</td>\n",
              "      <td>81.1</td>\n",
              "      <td>15.1</td>\n",
              "      <td>0.5</td>\n",
              "      <td>197</td>\n",
              "      <td>2.5</td>\n",
              "      <td>279</td>\n",
              "      <td>833.01</td>\n",
              "      <td>0.1</td>\n",
              "      <td>0</td>\n",
              "    </tr>\n",
              "    <tr>\n",
              "      <th>8782</th>\n",
              "      <td>17.8</td>\n",
              "      <td>82.8</td>\n",
              "      <td>13.5</td>\n",
              "      <td>2.0</td>\n",
              "      <td>353</td>\n",
              "      <td>4.8</td>\n",
              "      <td>352</td>\n",
              "      <td>832.78</td>\n",
              "      <td>0.1</td>\n",
              "      <td>0</td>\n",
              "    </tr>\n",
              "    <tr>\n",
              "      <th>8783</th>\n",
              "      <td>16.3</td>\n",
              "      <td>84.1</td>\n",
              "      <td>12.4</td>\n",
              "      <td>1.0</td>\n",
              "      <td>191</td>\n",
              "      <td>4.9</td>\n",
              "      <td>353</td>\n",
              "      <td>832.62</td>\n",
              "      <td>0.0</td>\n",
              "      <td>0</td>\n",
              "    </tr>\n",
              "  </tbody>\n",
              "</table>\n",
              "<p>8784 rows × 10 columns</p>\n",
              "</div>\n",
              "      <button class=\"colab-df-convert\" onclick=\"convertToInteractive('df-7b0a4576-28b7-4e32-86a4-927e6b947353')\"\n",
              "              title=\"Convert this dataframe to an interactive table.\"\n",
              "              style=\"display:none;\">\n",
              "        \n",
              "  <svg xmlns=\"http://www.w3.org/2000/svg\" height=\"24px\"viewBox=\"0 0 24 24\"\n",
              "       width=\"24px\">\n",
              "    <path d=\"M0 0h24v24H0V0z\" fill=\"none\"/>\n",
              "    <path d=\"M18.56 5.44l.94 2.06.94-2.06 2.06-.94-2.06-.94-.94-2.06-.94 2.06-2.06.94zm-11 1L8.5 8.5l.94-2.06 2.06-.94-2.06-.94L8.5 2.5l-.94 2.06-2.06.94zm10 10l.94 2.06.94-2.06 2.06-.94-2.06-.94-.94-2.06-.94 2.06-2.06.94z\"/><path d=\"M17.41 7.96l-1.37-1.37c-.4-.4-.92-.59-1.43-.59-.52 0-1.04.2-1.43.59L10.3 9.45l-7.72 7.72c-.78.78-.78 2.05 0 2.83L4 21.41c.39.39.9.59 1.41.59.51 0 1.02-.2 1.41-.59l7.78-7.78 2.81-2.81c.8-.78.8-2.07 0-2.86zM5.41 20L4 18.59l7.72-7.72 1.47 1.35L5.41 20z\"/>\n",
              "  </svg>\n",
              "      </button>\n",
              "      \n",
              "  <style>\n",
              "    .colab-df-container {\n",
              "      display:flex;\n",
              "      flex-wrap:wrap;\n",
              "      gap: 12px;\n",
              "    }\n",
              "\n",
              "    .colab-df-convert {\n",
              "      background-color: #E8F0FE;\n",
              "      border: none;\n",
              "      border-radius: 50%;\n",
              "      cursor: pointer;\n",
              "      display: none;\n",
              "      fill: #1967D2;\n",
              "      height: 32px;\n",
              "      padding: 0 0 0 0;\n",
              "      width: 32px;\n",
              "    }\n",
              "\n",
              "    .colab-df-convert:hover {\n",
              "      background-color: #E2EBFA;\n",
              "      box-shadow: 0px 1px 2px rgba(60, 64, 67, 0.3), 0px 1px 3px 1px rgba(60, 64, 67, 0.15);\n",
              "      fill: #174EA6;\n",
              "    }\n",
              "\n",
              "    [theme=dark] .colab-df-convert {\n",
              "      background-color: #3B4455;\n",
              "      fill: #D2E3FC;\n",
              "    }\n",
              "\n",
              "    [theme=dark] .colab-df-convert:hover {\n",
              "      background-color: #434B5C;\n",
              "      box-shadow: 0px 1px 3px 1px rgba(0, 0, 0, 0.15);\n",
              "      filter: drop-shadow(0px 1px 2px rgba(0, 0, 0, 0.3));\n",
              "      fill: #FFFFFF;\n",
              "    }\n",
              "  </style>\n",
              "\n",
              "      <script>\n",
              "        const buttonEl =\n",
              "          document.querySelector('#df-7b0a4576-28b7-4e32-86a4-927e6b947353 button.colab-df-convert');\n",
              "        buttonEl.style.display =\n",
              "          google.colab.kernel.accessAllowed ? 'block' : 'none';\n",
              "\n",
              "        async function convertToInteractive(key) {\n",
              "          const element = document.querySelector('#df-7b0a4576-28b7-4e32-86a4-927e6b947353');\n",
              "          const dataTable =\n",
              "            await google.colab.kernel.invokeFunction('convertToInteractive',\n",
              "                                                     [key], {});\n",
              "          if (!dataTable) return;\n",
              "\n",
              "          const docLinkHtml = 'Like what you see? Visit the ' +\n",
              "            '<a target=\"_blank\" href=https://colab.research.google.com/notebooks/data_table.ipynb>data table notebook</a>'\n",
              "            + ' to learn more about interactive tables.';\n",
              "          element.innerHTML = '';\n",
              "          dataTable['output_type'] = 'display_data';\n",
              "          await google.colab.output.renderOutput(dataTable, element);\n",
              "          const docLink = document.createElement('div');\n",
              "          docLink.innerHTML = docLinkHtml;\n",
              "          element.appendChild(docLink);\n",
              "        }\n",
              "      </script>\n",
              "    </div>\n",
              "  </div>\n",
              "  "
            ]
          },
          "metadata": {},
          "execution_count": 17
        }
      ],
      "source": [
        "#Next, select the data that will be predictors.\n",
        "predictors = df.copy(deep=True)  # here, we use \"deep = True\" so that changes to predictors won't be made to the df.\n",
        "\n",
        "#Next, we drop some variables that shouldn't be used to predict whether or not there is rain.\n",
        "predictors = df.drop(['day','hour','Prec_inches'],axis=1) \n",
        "predictors"
      ],
      "id": "IU0H0Ym8PePz"
    },
    {
      "cell_type": "code",
      "execution_count": null,
      "metadata": {
        "id": "YxOV3SPFPePz"
      },
      "outputs": [],
      "source": [
        "\n",
        "## Great, that worked. Now I will assign everything but \"prec\" to be the predictor array \"x\", \n",
        "## and prec will be the predictand vector \"y\".\n",
        "\n",
        "x = predictors.drop('prec_occur',axis=1)\n",
        "y = predictors.prec_occur"
      ],
      "id": "YxOV3SPFPePz"
    },
    {
      "cell_type": "markdown",
      "metadata": {
        "id": "IuZslAUYPePz"
      },
      "source": [
        "**Q2 & Q3 do not need to be addressed in our dataset.**"
      ],
      "id": "IuZslAUYPePz"
    },
    {
      "cell_type": "markdown",
      "metadata": {
        "id": "bGYdUsgqPeP0"
      },
      "source": [
        "**Q4. How will you validate your model?**\n",
        "\n",
        "We will perform a test-train split to validate our trained model. This step must be performed before each time the model is trained to ensure we are not baking in any bias among the models we train. That also means the following two steps must also be performed prior to training each model as well. For this reason, we write functions to call \n",
        "easily before each model training."
      ],
      "id": "bGYdUsgqPeP0"
    },
    {
      "cell_type": "code",
      "execution_count": null,
      "metadata": {
        "id": "HbNbmo5zPeP0"
      },
      "outputs": [],
      "source": [
        "\n",
        "from sklearn.model_selection import train_test_split\n",
        "from random import randint"
      ],
      "id": "HbNbmo5zPeP0"
    },
    {
      "cell_type": "code",
      "execution_count": null,
      "metadata": {
        "id": "eOu9O3EPPeP0"
      },
      "outputs": [],
      "source": [
        "def define_holdout_data(x, y, verbose):\n",
        "    \"\"\"Perform a 80/20 test-train split (80% of data is training, 20% is testing). Split is randomized with each call.\"\"\"\n",
        "    random_state = randint(0,1000)\n",
        "    x_train, x_test, y_train, y_test = train_test_split(x, y, test_size=0.20, random_state=random_state)\n",
        "    if verbose==True:\n",
        "        print(\"Prior to scaling and rebalacing...\")\n",
        "        print(\"Shape of training predictors: \"+str(np.shape(x_train)))\n",
        "        print(\"Shape of testing predictors: \"+str(np.shape(x_test)))\n",
        "        print(\"Shape of training predictands: \"+str(np.shape(y_train)))\n",
        "        print(\"Shape of testing predictands: \"+str(np.shape(y_test)))\n",
        "        print(\" \")\n",
        "    return x_train, x_test, y_train, y_test"
      ],
      "id": "eOu9O3EPPeP0"
    },
    {
      "cell_type": "markdown",
      "metadata": {
        "id": "tbnXi94hPeP0"
      },
      "source": [
        "**Q5. Do your features have the same variance?**\n",
        "\n",
        "We must normalize the features. In machine learning this is called Feature Scaling\". We do this so that the features with the largest variance are note weighted more heavily than those with less variance. Note: If our predictand wasn't binary, then we would normalize it as well.\n",
        "\n",
        "We'll keep the data as a pandas dataframe rather than converting it to a numpy array beforehand. The \"fit_transform\" function outputs a numpy array, but we will convert back to a dataframe so that re-balancing the dataset is easier."
      ],
      "id": "tbnXi94hPeP0"
    },
    {
      "cell_type": "code",
      "execution_count": null,
      "metadata": {
        "id": "yvLWlOq8PeP0"
      },
      "outputs": [],
      "source": [
        "from sklearn import preprocessing"
      ],
      "id": "yvLWlOq8PeP0"
    },
    {
      "cell_type": "code",
      "execution_count": null,
      "metadata": {
        "id": "oh2FHsugPeP0"
      },
      "outputs": [],
      "source": [
        "def scale_data(x_train, x_test):\n",
        "    \"\"\"\n",
        "    Scale training data so that model reaches optimized weights much faster. \n",
        "    \n",
        "    *All data that enters the model should use the same scaling used to scale the training data.*\n",
        "    Thus, we also perform scaling on testing data for validation later. \n",
        "    Additionally, we return the scaler used to scale any other future input data.\n",
        "    \"\"\"\n",
        "    \n",
        "    scaler = preprocessing.MinMaxScaler() # normalize \n",
        "    x_train_scaled = pd.DataFrame(data=scaler.fit_transform(x_train),index=x_train.index,columns=x_train.columns) \n",
        "    x_test_scaled = pd.DataFrame(data=scaler.transform(x_test),index=x_test.index,columns=x_test.columns)\n",
        "    \n",
        "    return scaler, x_train_scaled, x_test_scaled"
      ],
      "id": "oh2FHsugPeP0"
    },
    {
      "cell_type": "markdown",
      "metadata": {
        "id": "IBwOfUfgPeP0"
      },
      "source": [
        "**Q6. Are there the same number of observations for each outcome or class?**\n",
        "Luckily, we have the same number of observations for each feature (8784). But do we have the same number of outcomes for our predictand?"
      ],
      "id": "IBwOfUfgPeP0"
    },
    {
      "cell_type": "code",
      "execution_count": null,
      "metadata": {
        "id": "pejcr3e0PeP0",
        "outputId": "c9589e81-2b5e-4447-c391-6108b808897d",
        "colab": {
          "base_uri": "https://localhost:8080/"
        }
      },
      "outputs": [
        {
          "output_type": "execute_result",
          "data": {
            "text/plain": [
              "0    8501\n",
              "1     283\n",
              "Name: prec_occur, dtype: int64"
            ]
          },
          "metadata": {},
          "execution_count": 23
        }
      ],
      "source": [
        "df['prec_occur'].value_counts()"
      ],
      "id": "pejcr3e0PeP0"
    },
    {
      "cell_type": "markdown",
      "metadata": {
        "id": "y5Mm637jPeP1"
      },
      "source": [
        "**Answer:** Definitely not. The outcomes we are trying to predict are extremely unbalanced. Non-precip hours occur 30x more than precip hours. This class imbalance may bias the model because precip hours are underrepresented, which means the model won't have as many instances of precip hours to learn to distinguish precip hours from non-precip hours.\n",
        "\n",
        "There are a number of out-of-the-box functions that resample data very precisely. The one I use below simply randomly oversamples the existing precipitating observation data to balance the dataset.\n",
        "\n",
        "Note: This function should be called on both training and testing data separately."
      ],
      "id": "y5Mm637jPeP1"
    },
    {
      "cell_type": "code",
      "execution_count": null,
      "metadata": {
        "id": "XG6OAgudPeP1"
      },
      "outputs": [],
      "source": [
        "from sklearn.utils import resample"
      ],
      "id": "XG6OAgudPeP1"
    },
    {
      "cell_type": "code",
      "execution_count": null,
      "metadata": {
        "id": "mDKBP6VsPeP1"
      },
      "outputs": [],
      "source": [
        "def balance_data(x,y,verbose):\n",
        "    \"\"\"Resample data ensure model is not biased towards a particular outcome of precip or no precip.\"\"\"\n",
        "    # Combine again to one dataframe to ensure both the predictor and predictand are resampled from the same \n",
        "    # observations based on predictand outcomes. \n",
        "    dataset = pd.concat([x, y],axis=1)\n",
        "\n",
        "    # Separating classes\n",
        "    raining = dataset[dataset['prec_occur'] == 1]\n",
        "    not_raining = dataset[dataset['prec_occur'] == 0]\n",
        "\n",
        "    random_state = randint(0,1000)\n",
        "    oversample = resample(raining, \n",
        "                           replace=True, \n",
        "                           n_samples=len(not_raining), #set the number of samples to equal the number of the majority class\n",
        "                           random_state=random_state)\n",
        "\n",
        "    # Returning to new training set\n",
        "    oversample_dataset = pd.concat([not_raining, oversample])\n",
        "\n",
        "    # reseparate oversampled data into X and y sets\n",
        "    x_bal = oversample_dataset.drop(['prec_occur'], axis=1)\n",
        "    y_bal = oversample_dataset['prec_occur']\n",
        "\n",
        "    if verbose==True:\n",
        "        print(\"After scaling and rebalacing...\")\n",
        "        print(\"Shape of predictors: \"+str(np.shape(x_bal)))\n",
        "        print(\"Shape of predictands: \"+str(np.shape(y_bal)))\n",
        "        print(\" \")\n",
        "    \n",
        "    return x_bal, y_bal"
      ],
      "id": "mDKBP6VsPeP1"
    },
    {
      "cell_type": "markdown",
      "metadata": {
        "id": "-qWVYGOWPeP1"
      },
      "source": [
        "**For ease, let's put the data prep code from questions 1-6 into a pipeline.  In other words we will write a single function to accomplish everything we have done so far in this notebook.**\n"
      ],
      "id": "-qWVYGOWPeP1"
    },
    {
      "cell_type": "code",
      "execution_count": null,
      "metadata": {
        "id": "egZ9zBfOPeP1"
      },
      "outputs": [],
      "source": [
        "def dataprep_pipeline(x, y, verbose):\n",
        "    \"\"\" Combines all the functions defined above so that the user only has to \n",
        "    call one function to do all data pre-processing. \"\"\"\n",
        "    # verbose=True prints the shapes of input & output data\n",
        "\n",
        "    # split into training & testing data\n",
        "    x_train, x_test, y_train, y_test = define_holdout_data(x, y, verbose) \n",
        "\n",
        "    # perform feature scaling\n",
        "    scaler, x_train_scaled, x_test_scaled = scale_data(x_train, x_test)\n",
        "\n",
        "    # rebalance according to outcomes (i.e., the number of precipitating \n",
        "    # observations & non-precipitating outcomes should be equal)\n",
        "    if verbose==True:\n",
        "        print(\"for training data... \")\n",
        "    x_train_bal, y_train_bal = balance_data(x_train_scaled, y_train, verbose)\n",
        "    if verbose==True:\n",
        "        print(\"for testing data... \")\n",
        "    x_test_bal, y_test_bal = balance_data(x_test_scaled, y_test, verbose)\n",
        "    \n",
        "    return x_train_bal, y_train_bal, x_test_bal, y_test_bal"
      ],
      "id": "egZ9zBfOPeP1"
    },
    {
      "cell_type": "markdown",
      "metadata": {
        "id": "Gt1eH0-tPeP1"
      },
      "source": [
        "**Q7. What are the appropriate metrics for assessing your model?**\n",
        "These metrics will be used to evaluate each model after training."
      ],
      "id": "Gt1eH0-tPeP1"
    },
    {
      "cell_type": "markdown",
      "metadata": {
        "id": "7eg0_zSSPeP1"
      },
      "source": [
        "Below are some commonly-used metrics for assessing the value of a given Machine Learning model.\n",
        "\n",
        "\"**True Positive (TP)**\" Is the number of times the model predicts a positive when the observation is actually positive. In our case, the model predicts that its raining when it is actually raining.<br>\n",
        "\"**False Positive (FP)**\" The number of times the model guesses that it's raining when it's not actually raining.<br>\n",
        "The same applies to **True Negatives (TN)** (correctly predicting that it's not raining) and **False Negatives (FN)** (predicting no rain when it's actually raining).\n",
        "\n",
        "\n",
        " - **Precision = TP/(TP + FP)**: The proportion of predicted precipitating events that are actually precipitating.\n",
        " - **Accuracy = (TP + TN)/(total)**: The proportion of precipitating hours or non-precipitating hours that are correctly predicted by the model.\n",
        " - **Recall = TP/(TP + FN)**: The proportion of precipitating hours that are correctly predicted by the model.<br>\n",
        "<br>\n",
        "Other important metrics that we aren't going to look at today:\n",
        " - **F1**: a way to capture how well the model predicts the hours that it's actually precipitating.\n",
        " - **ROC/AUC**: how well the model separates precipitating hours from non-precipitating hours."
      ],
      "id": "7eg0_zSSPeP1"
    },
    {
      "cell_type": "code",
      "execution_count": null,
      "metadata": {
        "id": "vJxNSUlpPeP1"
      },
      "outputs": [],
      "source": [
        "from sklearn import metrics\n",
        "from sklearn.metrics import accuracy_score, f1_score, precision_score, recall_score, roc_auc_score, confusion_matrix\n",
        "import matplotlib.pyplot as plt\n",
        "import seaborn as sns"
      ],
      "id": "vJxNSUlpPeP1"
    },
    {
      "cell_type": "code",
      "execution_count": null,
      "metadata": {
        "id": "6frFSt2EPeP2"
      },
      "outputs": [],
      "source": [
        "# Print rounded metrics for each model.\n",
        "def bin_metrics(x, y):\n",
        "    \"\"\"Prints accuracy and recall metrics for evaluating \n",
        "    classification predictions.\"\"\"\n",
        "    \n",
        "    accuracy = metrics.accuracy_score(x, y)\n",
        "    recall = metrics.recall_score(x, y)\n",
        "\n",
        "    print('Accuracy:', round(accuracy, 4))\n",
        "    print('Recall:', round(recall, 4))\n",
        "    \n",
        "    return accuracy, recall\n",
        "\n",
        "\n",
        "# Plot confusion matrix\n",
        "def plot_cm(x, y):\n",
        "    \"\"\"Plots the confusion matrix to visualize true \n",
        "    & false positives & negatives\"\"\"\n",
        "    cm = confusion_matrix(x, y)\n",
        "    df_cm = pd.DataFrame(cm, columns=np.unique(x), index = np.unique(x))\n",
        "    df_cm.index.name = 'Actual'\n",
        "    df_cm.columns.name = 'Predicted'\n",
        "    sns.heatmap(df_cm, cmap=\"Blues\", annot=True,annot_kws={\"size\": 25}, fmt='g')# font size\n",
        "    plt.ylim([0, 2])\n",
        "    plt.xticks([0.5, 1.5], ['Negatives','Positives'])\n",
        "    plt.yticks([0.5, 1.5], ['Negatives','Positives'])"
      ],
      "id": "6frFSt2EPeP2"
    },
    {
      "cell_type": "markdown",
      "metadata": {
        "id": "Q56LxThePeP2"
      },
      "source": [
        "Another way we can evaluate the models is to compare precipitation likelihood given the same set of atmospheric conditions.  First, let's choose some observation in the pre-scaled dataset shows that it's raining, and then find the corresponding scaled observation:"
      ],
      "id": "Q56LxThePeP2"
    },
    {
      "cell_type": "code",
      "execution_count": null,
      "metadata": {
        "id": "6OOCooHRPeP2"
      },
      "outputs": [],
      "source": [
        "def rand_atmos_conditions_precip(index='rand'):\n",
        "    \"\"\"\n",
        "    Function returns atmospheric conditions in a dataframe as well as the scaled\n",
        "    conditions in a numpy array so that they output a prediction in the model.\n",
        "    \n",
        "    If no input is passed, the function will randomly generate an in index to \n",
        "    choose from those observations in some training data with precipitation. \n",
        "    Otherwise, an integer index between 0 and 200 should be passed.\n",
        "    \"\"\"\n",
        "    # First, perform a test-train split\n",
        "    x_train, x_test, y_train, _ = define_holdout_data(x, y, verbose=False) \n",
        "\n",
        "    # perform feature scaling\n",
        "    _, x_train_scaled, _ = scale_data(x_train, x_test)\n",
        "\n",
        "    # this is what will go into the model to output a prediction\n",
        "    if index=='rand':\n",
        "        index = randint(0,len(y_train[y_train==1].index)) \n",
        "    precipindex = y_train[y_train==1].index.values[index]\n",
        "    testpredictor = x_train_scaled.loc[precipindex] \n",
        "    \n",
        "    return df.iloc[precipindex], testpredictor    "
      ],
      "id": "6OOCooHRPeP2"
    },
    {
      "cell_type": "markdown",
      "metadata": {
        "id": "7cOq6HYuPeP2"
      },
      "source": [
        "## STEP 3: Train & Compare Machine Learning Models\n",
        "Each section below goes through building and training a ML model. In each section, there are a few steps for each model \"pipeline\":\n",
        "1. __Randomly perform a test-train split, feature scaling, and resample data to ensure outcomes are balanced__. \n",
        "2. __Train your model__.\n",
        "3. __Assess model metrics with testing and training data__. We begin by first assessing each model's performance by calculating the metrics defined above on the *testing* or *holdout* data; the key here is that the model has never seen this data. <br>__If applicable, tune your model.__ This means choosing new *hyperparameters*, retraining the model, and then reassessing the same model metrics to see if the model yields better results.\n",
        "3. __Check for model overfitting__. We will also check to see if the model is overfitting by comparing metrics of the testing data to that of the training data. In short, the training data should not be outperforming the testing data.\n",
        "4. __Actually make a prediction with a single observation__. Predicted precipitation probability provides a sanity test for us to make sure the model isn't way off base. It allows us to see for ourselves: given X meteorological conditions and our own understanding of meteorology, would rain seem likely? Is the model actually doing something realistic?"
      ],
      "id": "7cOq6HYuPeP2"
    },
    {
      "cell_type": "markdown",
      "metadata": {
        "id": "H4L-kCVAPeP2"
      },
      "source": [
        "## Model 1: Logistic Regression"
      ],
      "id": "H4L-kCVAPeP2"
    },
    {
      "cell_type": "code",
      "execution_count": null,
      "metadata": {
        "id": "SKOaCLzEPeP2"
      },
      "outputs": [],
      "source": [
        "from sklearn.linear_model import LogisticRegression"
      ],
      "id": "SKOaCLzEPeP2"
    },
    {
      "cell_type": "code",
      "execution_count": null,
      "metadata": {
        "id": "oViXxe0BPeP2",
        "outputId": "b1c5193f-12ab-4047-8b1d-4b7880b79919",
        "colab": {
          "base_uri": "https://localhost:8080/"
        }
      },
      "outputs": [
        {
          "output_type": "stream",
          "name": "stdout",
          "text": [
            "Prior to scaling and rebalacing...\n",
            "Shape of training predictors: (7027, 9)\n",
            "Shape of testing predictors: (1757, 9)\n",
            "Shape of training predictands: (7027,)\n",
            "Shape of testing predictands: (1757,)\n",
            " \n",
            "for training data... \n",
            "After scaling and rebalacing...\n",
            "Shape of predictors: (13590, 9)\n",
            "Shape of predictands: (13590,)\n",
            " \n",
            "for testing data... \n",
            "After scaling and rebalacing...\n",
            "Shape of predictors: (3412, 9)\n",
            "Shape of predictands: (3412,)\n",
            " \n"
          ]
        }
      ],
      "source": [
        "## 1. Perform a test-train split, perform feature scaling, and the rebalance our dataset.\n",
        "x_train_bal, y_train_bal, x_test_bal, y_test_bal = dataprep_pipeline(x, y, verbose=True)"
      ],
      "id": "oViXxe0BPeP2"
    },
    {
      "cell_type": "code",
      "execution_count": null,
      "metadata": {
        "id": "xxbqIscTPeP2"
      },
      "outputs": [],
      "source": [
        "## 2. Train the Logistic Regression model\n",
        "\n",
        "# initialize the model\n",
        "lr = LogisticRegression(solver='lbfgs') \n",
        "# we choose this particular solver because we're not regularizing or penalizing certain features\n",
        "\n",
        "# fit the model to scaled & balanced training data. Side note: this is where *Gradient Descent* occurs.\n",
        "lr.fit(x_train_bal, y_train_bal);"
      ],
      "id": "xxbqIscTPeP2"
    },
    {
      "cell_type": "code",
      "execution_count": null,
      "metadata": {
        "id": "yjKlywXjPeP3",
        "outputId": "d79cbe4e-687b-4c7b-e794-4915c119dd7e",
        "colab": {
          "base_uri": "https://localhost:8080/"
        }
      },
      "outputs": [
        {
          "output_type": "stream",
          "name": "stdout",
          "text": [
            "Accuracy: 0.825\n",
            "Recall: 0.8511\n"
          ]
        }
      ],
      "source": [
        "## 3. Assess Logistic Regression's performance using testing data\n",
        "\n",
        "##Now that we've \"trained\" our model, we make predictions using data that the \n",
        "## model has never seen before (i.e., our holdout testing data) to see how it performs.\n",
        "\n",
        "y_pred = lr.predict(x_test_bal)\n",
        "\n",
        "# Call functions defined above to calculate metrics & plot a confusion matrix based on\n",
        "# how well model simulates testing data\n",
        "#plot_cm(y_test_bal, y_pred);\n",
        "lr_acc, lr_rec = bin_metrics(y_test_bal, y_pred)"
      ],
      "id": "yjKlywXjPeP3"
    },
    {
      "cell_type": "markdown",
      "metadata": {
        "id": "q_0zD-V8PeP3"
      },
      "source": [
        "Accuracy tells is the percent of correct predictions, whether precipitating or not. The Logistic Regression model, without any additional tuning, can correctly predict whether it's precipitating or not given a set of present atmospheric conditions around 84% of the time.\n",
        "\n",
        "False Positives are less harmful than False Negatives. Thus, along with accuracy, we should also try to maximize recall.\n",
        "\n",
        "A very important aspect of tuning machine learning model is to ensure the model isn't overfitting or underfitting:\n",
        "An overfit model means the model is fit very well to the training data, but fails to generalize predictions outside the training dataset. A symptom of overfitting is that the models' training accuracy is much better than the testing accuracy. Overfitting can happen more easily in more complex models, like neural networks. To alleviate overfitting, one needs to reduce variance, through feature regularization, lowering model complexity, or performing k-folds cross-validation.\n",
        "\n",
        "Before you dive too deeply into ML and in your own time, I suggest watching this (https://www.youtube.com/watch?v=EuBBz3bI-aA) 6-minute StatQuest YouTube video to develop more intuition for model error."
      ],
      "id": "q_0zD-V8PeP3"
    },
    {
      "cell_type": "code",
      "execution_count": null,
      "metadata": {
        "id": "It7VnvgmPeP3",
        "outputId": "5fe7a5b5-0dfe-46e2-8a6c-bdfab63c4ca0",
        "colab": {
          "base_uri": "https://localhost:8080/"
        }
      },
      "outputs": [
        {
          "output_type": "stream",
          "name": "stdout",
          "text": [
            "Training metrics:\n",
            "Accuracy: 0.8386\n",
            "Recall: 0.8584\n",
            " \n",
            "Testing metrics:\n",
            "Accuracy: 0.825\n",
            "Recall: 0.8511\n"
          ]
        }
      ],
      "source": [
        "##4. Check to see if the Logistic Regression model is overfitting (or underfitting)\n",
        "#Remember:\n",
        "#testing metrics > training metrics = underfitting, model is too simple\n",
        "#testing metrics < training metrics = overfitting, model is too complex\n",
        "\n",
        "# Compare testing data metrics to data training metrics.\n",
        "print(\"Training metrics:\")\n",
        "pred_train= lr.predict(x_train_bal) \n",
        "bin_metrics(y_train_bal,pred_train);\n",
        "\n",
        "# As a reminder, display testing metrics:\n",
        "print(\" \")\n",
        "print(\"Testing metrics:\")\n",
        "bin_metrics(y_test_bal, y_pred);"
      ],
      "id": "It7VnvgmPeP3"
    },
    {
      "cell_type": "code",
      "execution_count": null,
      "metadata": {
        "id": "wjUzkHmUPeP3",
        "outputId": "775492a3-74e8-4b4c-dc66-5896f2f35184",
        "colab": {
          "base_uri": "https://localhost:8080/"
        }
      },
      "outputs": [
        {
          "output_type": "stream",
          "name": "stdout",
          "text": [
            "temp_F          0.415179\n",
            "RH              0.938967\n",
            "dewtemp_F       0.589561\n",
            "wind_mph        0.302575\n",
            "wind_dir        0.927577\n",
            "windgust        0.321006\n",
            "windgust_dir    0.885794\n",
            "pres_Hg         0.747467\n",
            "SOLIN_Wm2       0.000000\n",
            "Name: 2566, dtype: float64\n"
          ]
        }
      ],
      "source": [
        "## 5. Make a prediction with the Logistic Regression model\n",
        "#First, we randomly choose some atmospheric conditions using the function defined above. This will be the atmospheric conditions we use for all models we build.\n",
        "\n",
        "origvals, testpredictor = rand_atmos_conditions_precip()\n",
        "#print(origvals) # observation from original dataframe\n",
        "print(testpredictor) # scaled observation"
      ],
      "id": "wjUzkHmUPeP3"
    },
    {
      "cell_type": "code",
      "execution_count": null,
      "metadata": {
        "scrolled": true,
        "id": "TbS94Y4oPeP3",
        "outputId": "51b5cccb-4244-461d-c8ff-21374339de80",
        "colab": {
          "base_uri": "https://localhost:8080/"
        }
      },
      "outputs": [
        {
          "output_type": "stream",
          "name": "stdout",
          "text": [
            "The meteorological conditions are: \n",
            "day             2016-04-16\n",
            "hour              0.916667\n",
            "temp_F                32.2\n",
            "RH                    87.5\n",
            "dewtemp_F             28.9\n",
            "wind_mph              14.1\n",
            "wind_dir               333\n",
            "windgust              21.7\n",
            "windgust_dir           318\n",
            "pres_Hg             845.66\n",
            "SOLIN_Wm2              0.0\n",
            "Prec_inches           0.07\n",
            "prec_occur               1\n",
            "Name: 2566, dtype: object\n",
            " \n",
            "There is a 95.43% chance of precipitation given those meteorological conditions.\n"
          ]
        },
        {
          "output_type": "stream",
          "name": "stderr",
          "text": [
            "/usr/local/lib/python3.9/dist-packages/sklearn/base.py:439: UserWarning: X does not have valid feature names, but LogisticRegression was fitted with feature names\n",
            "  warnings.warn(\n"
          ]
        }
      ],
      "source": [
        "# prediction output is in the format [probability no rain, probability rain]\n",
        "lr_prediction = lr.predict_proba(np.array(testpredictor).reshape(1, -1))[0][1]*100 \n",
        "print(\"The meteorological conditions are: \")\n",
        "print(origvals)\n",
        "print(\" \")\n",
        "print(\"There is a {0:.{digits}f}% chance of precipitation given those meteorological conditions.\".format(lr_prediction, digits=2))"
      ],
      "id": "TbS94Y4oPeP3"
    },
    {
      "cell_type": "markdown",
      "metadata": {
        "id": "e43mPy6OPeP3"
      },
      "source": [
        "## Model 2: Random Forest\n",
        "\n",
        "To understand random forests, one must first understand a [decision tree](https://scikit-learn.org/stable/modules/tree.html#tree). A decision tree is intuitive: it is essentially a flowchart to point to an outcome based on \"decisions\" for each feature. A Random Forest is an ensemble of decision trees that are randomly constructed based on the features of the dataset and number of decisions. Trees are constructed by randomly choosing a feature to \"seed\" each tree, and then making rules or associations with other features to lead to the specified outcome."
      ],
      "id": "e43mPy6OPeP3"
    },
    {
      "cell_type": "code",
      "execution_count": null,
      "metadata": {
        "id": "3BXMFjp_PeP4"
      },
      "outputs": [],
      "source": [
        "from sklearn.ensemble import RandomForestClassifier"
      ],
      "id": "3BXMFjp_PeP4"
    },
    {
      "cell_type": "code",
      "execution_count": null,
      "metadata": {
        "id": "bJCYOCnBPeP4"
      },
      "outputs": [],
      "source": [
        "##1. Perform a test-train split, perform feature scaling, and the rebalance our dataset.\n",
        "## Perform a train-test split for cross-validation, perform feature scaling, and \n",
        "## rebalance each testing & training dataset.\n",
        "\n",
        "x_train_bal, y_train_bal, x_test_bal, y_test_bal = dataprep_pipeline(x, y, verbose=False)"
      ],
      "id": "bJCYOCnBPeP4"
    },
    {
      "cell_type": "code",
      "execution_count": null,
      "metadata": {
        "id": "9lwUjLbDPeP4",
        "outputId": "577c3c08-d669-463b-92ad-f340c968f6f2",
        "colab": {
          "base_uri": "https://localhost:8080/"
        }
      },
      "outputs": [
        {
          "output_type": "stream",
          "name": "stdout",
          "text": [
            "Number of estimators is 10\n",
            "depth is 2\n",
            "depth is 10\n",
            "depth is 100\n",
            "Random Forest took 0.4720010757446289 seconds.\n",
            "Number of estimators is 50\n",
            "depth is 2\n",
            "depth is 10\n",
            "depth is 100\n",
            "Random Forest took 2.9476897716522217 seconds.\n",
            "Number of estimators is 500\n",
            "depth is 2\n",
            "depth is 10\n",
            "depth is 100\n",
            "Random Forest took 28.94895887374878 seconds.\n"
          ]
        }
      ],
      "source": [
        "##2. Train (and tuning) the Random Forest model\n",
        "\n",
        "##Choosing hyperparameters: There are many hyperparameters one can decide upon when tuning the \n",
        "## Random Forest classifier. The two we will adjust are: 1) The number of estimators or \"trees\" in the forest\n",
        "## 2) The depth of the tree, or how many \"decisions\" are made until convergence is reached.\n",
        "\n",
        "acc_scores = []\n",
        "rec_scores = []\n",
        "\n",
        "num_est = [10, 50, 500] # number of trees\n",
        "depth = [2, 10, 100] # number of decisions\n",
        "for i in num_est:\n",
        "    start = time.time()\n",
        "    print(\"Number of estimators is \"+str(i))\n",
        "\n",
        "    for k in depth:\n",
        "        print(\"depth is \"+str(k))\n",
        "        forest = RandomForestClassifier(n_estimators=i, max_depth=k)\n",
        "        forest.fit(x_train_bal, y_train_bal)\n",
        "        \n",
        "        # cross validate & evaluate metrics based on testing data\n",
        "        pred_test= forest.predict(x_test_bal)\n",
        "        acc_val = metrics.accuracy_score(y_test_bal, pred_test)\n",
        "        acc_scores.append(acc_val)\n",
        "        rec_val = metrics.recall_score(y_test_bal, pred_test)\n",
        "        rec_scores.append(rec_val)\n",
        "\n",
        "    end = time.time()\n",
        "    print(\"Random Forest took \"+str(end-start)+\" seconds.\")"
      ],
      "id": "9lwUjLbDPeP4"
    },
    {
      "cell_type": "code",
      "execution_count": null,
      "metadata": {
        "id": "OKsUI7ocPeP4",
        "outputId": "751605f3-276d-448b-984d-26f86af61813",
        "colab": {
          "base_uri": "https://localhost:8080/",
          "height": 485
        }
      },
      "outputs": [
        {
          "output_type": "stream",
          "name": "stdout",
          "text": [
            "Max Accuracy (black): 0.8445\n",
            "Max Recall (blue): 0.8338\n"
          ]
        },
        {
          "output_type": "display_data",
          "data": {
            "text/plain": [
              "<Figure size 640x480 with 1 Axes>"
            ],
            "image/png": "[encoded data removed]"
          },
          "metadata": {}
        }
      ],
      "source": [
        "### visualize the recall and accuracy scores for the different hyperparameter choices\n",
        "plt.plot(acc_scores, marker='o', color='black',label='accuracy')\n",
        "plt.plot(rec_scores, marker='o', color='blue',label='recall')\n",
        "plt.xlabel('Hyperparameter Choice')\n",
        "plt.ylabel('Score')\n",
        "plt.legend()\n",
        "print(\"Max Accuracy (black):\", round(max(acc_scores), 4))\n",
        "print(\"Max Recall (blue):\", round(max(rec_scores), 4))"
      ],
      "id": "OKsUI7ocPeP4"
    },
    {
      "cell_type": "markdown",
      "metadata": {
        "id": "5-LhUZdQPeP4"
      },
      "source": [
        "Which choice of hyperparameters should we pick? Choosing the right hyperparameters for this model requires revisiting which metrics are most important to our question. For this problem, we want to maximize both recall and accuracy.\n",
        "\n",
        "Let's go with the parameters corresponding to x=0 (Looks good for both accuracy and recall!) but try other hyperparameters too (if you have time)"
      ],
      "id": "5-LhUZdQPeP4"
    },
    {
      "cell_type": "code",
      "execution_count": null,
      "metadata": {
        "id": "weLsoxxaPeP4"
      },
      "outputs": [],
      "source": [
        "forest = RandomForestClassifier(n_estimators=10, max_depth=2);\n",
        "forest.fit(x_train_bal, y_train_bal);"
      ],
      "id": "weLsoxxaPeP4"
    },
    {
      "cell_type": "code",
      "execution_count": null,
      "metadata": {
        "id": "w5wpWopZPeP4",
        "outputId": "a561b79a-9c7d-46a0-acf0-324a491ea90d",
        "colab": {
          "base_uri": "https://localhost:8080/",
          "height": 485
        }
      },
      "outputs": [
        {
          "output_type": "stream",
          "name": "stdout",
          "text": [
            "Accuracy: 0.7756\n",
            "Recall: 0.7043\n"
          ]
        },
        {
          "output_type": "display_data",
          "data": {
            "text/plain": [
              "<Figure size 640x480 with 2 Axes>"
            ],
            "image/png": "[encoded data removed]"
          },
          "metadata": {}
        }
      ],
      "source": [
        "## 3. Assess the Random Forest's performance using testing data\n",
        "##Once again, we will use our testing data to make an initial evaluation of how the model is doing.\n",
        "\n",
        "pred_test= forest.predict(x_test_bal)\n",
        "\n",
        "# Call functions defined above to calculate metrics & plot a confusion matrix based on\n",
        "# how well model simulates testing data\n",
        "forest_acc, forest_rec = bin_metrics(y_test_bal, pred_test)\n",
        "plot_cm(y_test_bal, pred_test)\n"
      ],
      "id": "w5wpWopZPeP4"
    },
    {
      "cell_type": "code",
      "execution_count": null,
      "metadata": {
        "id": "YhyYOKGgPeP4",
        "outputId": "ffa51834-4d42-47ed-e1b3-b88bb3cbbec0",
        "colab": {
          "base_uri": "https://localhost:8080/"
        }
      },
      "outputs": [
        {
          "output_type": "stream",
          "name": "stdout",
          "text": [
            "Training metrics:\n",
            "Accuracy: 0.7919\n",
            "Recall: 0.7364\n",
            " \n",
            "Testing metrics:\n",
            "Accuracy: 0.7756\n",
            "Recall: 0.7043\n"
          ]
        }
      ],
      "source": [
        "## 4. Check to see if the Random Forest is overfitting (or underfitting)\n",
        "#Remember:\n",
        "#testing metrics > training metrics = underfitting, model is too simple\n",
        "#testing metrics < training metrics = overfitting, model is too complex\n",
        "\n",
        "# Compare testing data metrics to data training metrics.\n",
        "print(\"Training metrics:\")\n",
        "rf_pred_train= forest.predict(x_train_bal) \n",
        "bin_metrics(y_train_bal,rf_pred_train);\n",
        "\n",
        "# As a reminder, display testing metrics:\n",
        "print(\" \")\n",
        "print(\"Testing metrics:\")\n",
        "bin_metrics(y_test_bal, pred_test);"
      ],
      "id": "YhyYOKGgPeP4"
    },
    {
      "cell_type": "markdown",
      "metadata": {
        "id": "fuThSQgbPeP5"
      },
      "source": [
        "WOW - the random forest model was not an improvement over the logistical regression model.\n",
        "\n",
        "Random forests seldom overfit, but if they do, one should try increasing the number of trees, or decreasing the amount of data used to construct each tree. See scikit-learn's Random Forest Classifier webpage (https://scikit-learn.org/stable/modules/generated/sklearn.ensemble.RandomForestClassifier.html) for information on more hyperparameters one can tune to address overfitting."
      ],
      "id": "fuThSQgbPeP5"
    },
    {
      "cell_type": "code",
      "execution_count": null,
      "metadata": {
        "id": "s_ZoSMy2PeP5",
        "outputId": "23b277c6-3a41-4706-cc6f-b1f6ce5e7b43",
        "colab": {
          "base_uri": "https://localhost:8080/"
        }
      },
      "outputs": [
        {
          "output_type": "stream",
          "name": "stdout",
          "text": [
            "The meteorological conditions are: \n",
            "day             2016-04-16\n",
            "hour              0.916667\n",
            "temp_F                32.2\n",
            "RH                    87.5\n",
            "dewtemp_F             28.9\n",
            "wind_mph              14.1\n",
            "wind_dir               333\n",
            "windgust              21.7\n",
            "windgust_dir           318\n",
            "pres_Hg             845.66\n",
            "SOLIN_Wm2              0.0\n",
            "Prec_inches           0.07\n",
            "prec_occur               1\n",
            "Name: 2566, dtype: object\n",
            " \n",
            "There is a 82.59% chance of precipitation given those meteorological conditions.\n"
          ]
        },
        {
          "output_type": "stream",
          "name": "stderr",
          "text": [
            "/usr/local/lib/python3.9/dist-packages/sklearn/base.py:439: UserWarning: X does not have valid feature names, but RandomForestClassifier was fitted with feature names\n",
            "  warnings.warn(\n"
          ]
        }
      ],
      "source": [
        "##5. Make a prediction with the Random Forest\n",
        "\n",
        "# prediction output is in the format [probability no rain, probability rain]\n",
        "forest_prediction = forest.predict_proba(np.array(testpredictor).reshape(1, -1))[0][1]*100 \n",
        "print(\"The meteorological conditions are: \")\n",
        "print(origvals)\n",
        "print(\" \")\n",
        "print(\"There is a {0:.{digits}f}% chance of precipitation given those meteorological conditions.\".format(forest_prediction, digits=2))"
      ],
      "id": "s_ZoSMy2PeP5"
    },
    {
      "cell_type": "markdown",
      "metadata": {
        "id": "UmHEWQsbPeP5"
      },
      "source": [
        "## Model 3: Support Vector Machines (SVMs)"
      ],
      "id": "UmHEWQsbPeP5"
    },
    {
      "cell_type": "markdown",
      "metadata": {
        "id": "9ZfwgPwGPeP5"
      },
      "source": [
        "SVMs divide observations into classes based on maximizing the distance between a \"kernel\" (basically a dividing function) and the elements of each feature/class/variable on a plane. Because the relationships between atmospheric variables and precipitation are inherently non-linear, we will choose a non-linear, \"RBF\" kernel."
      ],
      "id": "9ZfwgPwGPeP5"
    },
    {
      "cell_type": "code",
      "execution_count": null,
      "metadata": {
        "id": "LvHJGa0vPeP5"
      },
      "outputs": [],
      "source": [
        "from sklearn import svm"
      ],
      "id": "LvHJGa0vPeP5"
    },
    {
      "cell_type": "code",
      "execution_count": null,
      "metadata": {
        "id": "OruEMmZVPeP5"
      },
      "outputs": [],
      "source": [
        "## 1. Perform a test-train split, perform feature scaling, and the rebalance our dataset.\n",
        "x_train_bal, y_train_bal, x_test_bal, y_test_bal = dataprep_pipeline(x, y, verbose=False)"
      ],
      "id": "OruEMmZVPeP5"
    },
    {
      "cell_type": "markdown",
      "metadata": {
        "id": "Ogi3g8ILPeP5"
      },
      "source": [
        "Choosing hyperparameters\n",
        "In the case of SVMs, we can tune \"C\", the regularization parameter. Regularization) penalizes higher-order coefficients during training (i.e., Gradient Descent). Regularization is a way to reduce a model's complexity and address overfitting.\n",
        "\n",
        "In SVMs, the lower the regularization parameter C, the higher the penalty. We are unsure what the C value should be. Thus, we train the model three times, each with a different value of C to see what the best value should be. I highly suggest learning more on regularization if you choose to pursue ML methods on your own."
      ],
      "id": "Ogi3g8ILPeP5"
    },
    {
      "cell_type": "code",
      "execution_count": null,
      "metadata": {
        "id": "yevKWhpZPeP5",
        "outputId": "21ce3989-e27a-4e23-e5dc-d934dd6d3b2d",
        "colab": {
          "base_uri": "https://localhost:8080/"
        }
      },
      "outputs": [
        {
          "output_type": "stream",
          "name": "stdout",
          "text": [
            "C is... 0.01\n",
            "Took 45.29145669937134 seconds to train.\n",
            "C is... 1\n",
            "Took 21.598001956939697 seconds to train.\n",
            "C is... 100\n"
          ]
        },
        {
          "output_type": "stream",
          "name": "stderr",
          "text": [
            "/usr/local/lib/python3.9/dist-packages/sklearn/svm/_base.py:299: ConvergenceWarning: Solver terminated early (max_iter=20000).  Consider pre-processing your data with StandardScaler or MinMaxScaler.\n",
            "  warnings.warn(\n"
          ]
        },
        {
          "output_type": "stream",
          "name": "stdout",
          "text": [
            "Took 21.652179718017578 seconds to train.\n"
          ]
        }
      ],
      "source": [
        "## 2. Train (and tune) the SVM (Note: this cell takes ~1 minute to run)\n",
        "\n",
        "acc_scores = []\n",
        "rec_scores = []\n",
        "\n",
        "C_range = [0.01, 1, 100]\n",
        "for i in C_range:\n",
        "    start = time.time()\n",
        "    print(\"C is... \"+str(i))\n",
        "    svmclassifier = svm.SVC(C=i, kernel='rbf', gamma='scale', max_iter=20000, probability=True)\n",
        "    svmclassifier.fit(x_train_bal, y_train_bal)\n",
        "    \n",
        "    # Save model metrics in order to choose best hyperparameter\n",
        "    pred_test= svmclassifier.predict(x_test_bal)\n",
        "    acc_val = metrics.accuracy_score(y_test_bal, pred_test)\n",
        "    acc_scores.append(acc_val)\n",
        "    rec_val = metrics.recall_score(y_test_bal, pred_test)\n",
        "    rec_scores.append(rec_val)\n",
        "\n",
        "    end = time.time()\n",
        "    print(\"Took \"+str(end-start)+\" seconds to train.\")"
      ],
      "id": "yevKWhpZPeP5"
    },
    {
      "cell_type": "code",
      "execution_count": null,
      "metadata": {
        "id": "nx9A7s98PeP6",
        "outputId": "f8371e8d-f70c-451a-911a-69fb7c4ab06c",
        "colab": {
          "base_uri": "https://localhost:8080/",
          "height": 490
        }
      },
      "outputs": [
        {
          "output_type": "stream",
          "name": "stdout",
          "text": [
            "Max Accuracy (black): 0.8955\n",
            "Max Recall (blue): 0.9126\n"
          ]
        },
        {
          "output_type": "display_data",
          "data": {
            "text/plain": [
              "<Figure size 640x480 with 1 Axes>"
            ],
            "image/png": "[encoded data removed]"
          },
          "metadata": {}
        }
      ],
      "source": [
        "plt.plot(C_range, acc_scores, marker='o', color='black',label='accuracy')\n",
        "plt.plot(C_range, rec_scores, marker='o', color='blue',label='recall')\n",
        "plt.xlabel('Hyperparameter Choice')\n",
        "plt.xscale('log')\n",
        "plt.ylabel('Score')\n",
        "plt.legend()\n",
        "\n",
        "print(\"Max Accuracy (black):\", round(max(acc_scores), 4))\n",
        "print(\"Max Recall (blue):\", round(max(rec_scores), 4))"
      ],
      "id": "nx9A7s98PeP6"
    },
    {
      "cell_type": "markdown",
      "metadata": {
        "id": "K6GNK3vfPeP6"
      },
      "source": [
        "The SVM with C=1, i.e., a medium weight penalty, results in a balance among accuracy, precision, and recall.\n",
        "We will train our final model with this hyperparameter."
      ],
      "id": "K6GNK3vfPeP6"
    },
    {
      "cell_type": "code",
      "execution_count": null,
      "metadata": {
        "id": "xK8hX8VUPeP6"
      },
      "outputs": [],
      "source": [
        "# Define SVM classifier & fit to training data\n",
        "svmclassifier = svm.SVC(C=1, kernel='rbf', gamma='scale', max_iter=20000, probability=True)\n",
        "svmclassifier.fit(x_train_bal, y_train_bal);"
      ],
      "id": "xK8hX8VUPeP6"
    },
    {
      "cell_type": "code",
      "execution_count": null,
      "metadata": {
        "id": "86aRhiVNPeP6",
        "outputId": "4ab7f270-206e-456e-c64c-c34bc68b3782",
        "colab": {
          "base_uri": "https://localhost:8080/",
          "height": 485
        }
      },
      "outputs": [
        {
          "output_type": "stream",
          "name": "stdout",
          "text": [
            "Accuracy: 0.8955\n",
            "Recall: 0.9126\n"
          ]
        },
        {
          "output_type": "display_data",
          "data": {
            "text/plain": [
              "<Figure size 640x480 with 2 Axes>"
            ],
            "image/png": "[encoded data removed]"
          },
          "metadata": {}
        }
      ],
      "source": [
        "## 3. Assess SVM performance using testing data\n",
        "\n",
        "pred_test= svmclassifier.predict(x_test_bal)\n",
        "\n",
        "# Call functions defined above to calculate metrics & plot a confusion matrix based on\n",
        "# how well model simulates testing data\n",
        "svm_acc, svm_rec = bin_metrics(y_test_bal, pred_test)\n",
        "plot_cm(y_test_bal, pred_test)"
      ],
      "id": "86aRhiVNPeP6"
    },
    {
      "cell_type": "markdown",
      "metadata": {
        "id": "ZETWL5arPeP6"
      },
      "source": [
        "WOW: using a non-linear Singular Vector Machine instead of a Logistic Regressor increased the recall and accuracy. "
      ],
      "id": "ZETWL5arPeP6"
    },
    {
      "cell_type": "code",
      "execution_count": null,
      "metadata": {
        "id": "X0vXpWdsPeP6",
        "outputId": "71e0d7d4-eff7-4522-f699-6383728ff939",
        "colab": {
          "base_uri": "https://localhost:8080/"
        }
      },
      "outputs": [
        {
          "output_type": "stream",
          "name": "stdout",
          "text": [
            "Training metrics:\n",
            "Accuracy: 0.9173\n",
            "Recall: 0.9533\n",
            " \n",
            "Testing metrics:\n",
            "Accuracy: 0.8955\n",
            "Recall: 0.9126\n"
          ]
        }
      ],
      "source": [
        "\n",
        "## 4. Check to see if the SVM is overfitting (or underfitting)\n",
        "#Remember:\n",
        "#testing metrics > training metrics = underfitting, model is too simple\n",
        "#testing metrics < training metrics = overfitting, model is too complex\n",
        "\n",
        "# Compare testing data metrics to data training metrics.\n",
        "print(\"Training metrics:\")\n",
        "svm_pred_train= svmclassifier.predict(x_train_bal) \n",
        "bin_metrics(y_train_bal,svm_pred_train);\n",
        "\n",
        "# As a reminder, display testing metrics:\n",
        "print(\" \")\n",
        "print(\"Testing metrics:\")\n",
        "bin_metrics(y_test_bal, pred_test);"
      ],
      "id": "X0vXpWdsPeP6"
    },
    {
      "cell_type": "markdown",
      "metadata": {
        "id": "xOBaS-0HPeP6"
      },
      "source": [
        "One can address overfitting in an SVM by changing the kernel to a simpler kernel, or tuning the regularization parameter C."
      ],
      "id": "xOBaS-0HPeP6"
    },
    {
      "cell_type": "code",
      "execution_count": null,
      "metadata": {
        "id": "ud6iYibLPeP6",
        "outputId": "089033d0-1473-43b7-f79f-5ea274d5d161",
        "colab": {
          "base_uri": "https://localhost:8080/"
        }
      },
      "outputs": [
        {
          "output_type": "stream",
          "name": "stdout",
          "text": [
            "The meteorological conditions are: \n",
            "day             2016-04-16\n",
            "hour              0.916667\n",
            "temp_F                32.2\n",
            "RH                    87.5\n",
            "dewtemp_F             28.9\n",
            "wind_mph              14.1\n",
            "wind_dir               333\n",
            "windgust              21.7\n",
            "windgust_dir           318\n",
            "pres_Hg             845.66\n",
            "SOLIN_Wm2              0.0\n",
            "Prec_inches           0.07\n",
            "prec_occur               1\n",
            "Name: 2566, dtype: object\n",
            " \n",
            "There is a 99.58% chance of precipitation given those meteorological conditions.\n"
          ]
        },
        {
          "output_type": "stream",
          "name": "stderr",
          "text": [
            "/usr/local/lib/python3.9/dist-packages/sklearn/base.py:439: UserWarning: X does not have valid feature names, but SVC was fitted with feature names\n",
            "  warnings.warn(\n"
          ]
        }
      ],
      "source": [
        "## 5. Make a prediction with the SVM\n",
        "\n",
        "# prediction output is in the format [probability no rain, probability rain]\n",
        "svm_prediction = svmclassifier.predict_proba(np.array(testpredictor).reshape(1, -1))[0][1]*100 \n",
        "print(\"The meteorological conditions are: \")\n",
        "print(origvals)\n",
        "print(\" \")\n",
        "print(\"There is a {0:.{digits}f}% chance of precipitation given those meteorological conditions.\".format(svm_prediction, digits=2))"
      ],
      "id": "ud6iYibLPeP6"
    },
    {
      "cell_type": "markdown",
      "metadata": {
        "id": "gRdLmQF9PeP6"
      },
      "source": [
        "## Model 4: Neural Network"
      ],
      "id": "gRdLmQF9PeP6"
    },
    {
      "cell_type": "markdown",
      "metadata": {
        "id": "cGh7xsA_PeP7"
      },
      "source": [
        "Note: there is a TON of information online about Neural Networks. Eleanor Recommends:\n",
        "1) This three-part series of youtube videos (totaling about an hour in length) https://www.youtube.com/watch?v=aircAruvnKk. \n",
        "\n",
        "2) machinelearningmastery.com In fact, the model below is based off of this blog post (https://machinelearningmastery.com/binary-classification-tutorial-with-the-keras-deep-learning-library/)"
      ],
      "id": "cGh7xsA_PeP7"
    },
    {
      "cell_type": "code",
      "execution_count": null,
      "metadata": {
        "id": "TIwf_tg6PeP7"
      },
      "outputs": [],
      "source": [
        "import tensorflow.keras as keras\n",
        "from tensorflow.keras.models import Sequential\n",
        "from tensorflow.keras.layers import Dense"
      ],
      "id": "TIwf_tg6PeP7"
    },
    {
      "cell_type": "code",
      "execution_count": null,
      "metadata": {
        "id": "_PQZJPXyPeP7"
      },
      "outputs": [],
      "source": [
        "## 1. Perform a test-train split, perform feature scaling, and the rebalance our dataset.\n",
        "x_train_bal, y_train_bal, x_test_bal, y_test_bal = dataprep_pipeline(x, y, verbose=False)\n"
      ],
      "id": "_PQZJPXyPeP7"
    },
    {
      "cell_type": "code",
      "execution_count": null,
      "metadata": {
        "id": "XMxww7INPeP7"
      },
      "outputs": [],
      "source": [
        "## 2. Train (and build and compile) the Neural Network\n",
        "## There are lots of hyperparameters here. Please read the comments to guide you in playing with them later!"
      ],
      "id": "XMxww7INPeP7"
    },
    {
      "cell_type": "code",
      "execution_count": null,
      "metadata": {
        "id": "W3qyC2WjPeP7"
      },
      "outputs": [],
      "source": [
        "### Build a very simple Neural Network and Compile\n",
        "number_inputs = len(x_train_bal.columns)\n",
        "\n",
        "# create model\n",
        "nn = Sequential()\n",
        "nn.add(Dense(number_inputs, input_dim=number_inputs, activation='relu'))\n",
        "\n",
        "# Try uncommenting this to address overfitting\n",
        "# from keras.regularizers import l2\n",
        "# reg = l2(0.001)\n",
        "# nn.add(Dense(number_inputs, activation='relu',bias_regularizer=reg,activity_regularizer=reg))\n",
        "\n",
        "# try commenting out one and then the other\n",
        "nn.add(Dense(1, activation='sigmoid'))\n",
        "#nn.addDense(1, activation='softmax'))\n",
        "\n",
        "# Compile model \n",
        "# Also try changing the learning rate.\n",
        "learning_rate = 0.001 # only used in the SGD optimizer.\n",
        "\n",
        "# Also try commenting out one & then the other. \n",
        "nn.compile(loss='binary_crossentropy', optimizer='adam', metrics=['accuracy']) \n",
        "#nn.compile(loss='binary_crossentropy', optimizer=keras.optimizers.SGD(lr=learning_rate), metrics=['accuracy']) "
      ],
      "id": "W3qyC2WjPeP7"
    },
    {
      "cell_type": "code",
      "execution_count": null,
      "metadata": {
        "id": "Qnw4ceq7PeP7",
        "outputId": "819a11da-77b3-416f-b07c-7ee3a7130ea6",
        "colab": {
          "base_uri": "https://localhost:8080/"
        }
      },
      "outputs": [
        {
          "output_type": "stream",
          "name": "stdout",
          "text": [
            "Epoch 1/100\n",
            "567/567 - 3s - loss: 0.6122 - accuracy: 0.6810 - val_loss: 0.5248 - val_accuracy: 0.7713 - 3s/epoch - 4ms/step\n",
            "Epoch 2/100\n",
            "567/567 - 2s - loss: 0.5034 - accuracy: 0.7790 - val_loss: 0.4387 - val_accuracy: 0.8093 - 2s/epoch - 3ms/step\n",
            "Epoch 3/100\n",
            "567/567 - 2s - loss: 0.4569 - accuracy: 0.8017 - val_loss: 0.4031 - val_accuracy: 0.8137 - 2s/epoch - 4ms/step\n",
            "Epoch 4/100\n",
            "567/567 - 2s - loss: 0.4352 - accuracy: 0.8140 - val_loss: 0.3875 - val_accuracy: 0.8340 - 2s/epoch - 3ms/step\n",
            "Epoch 5/100\n",
            "567/567 - 1s - loss: 0.4221 - accuracy: 0.8220 - val_loss: 0.3772 - val_accuracy: 0.8387 - 1s/epoch - 3ms/step\n",
            "Epoch 6/100\n",
            "567/567 - 1s - loss: 0.4131 - accuracy: 0.8231 - val_loss: 0.3692 - val_accuracy: 0.8393 - 1s/epoch - 2ms/step\n",
            "Epoch 7/100\n",
            "567/567 - 1s - loss: 0.4061 - accuracy: 0.8289 - val_loss: 0.3652 - val_accuracy: 0.8437 - 1s/epoch - 2ms/step\n",
            "Epoch 8/100\n",
            "567/567 - 1s - loss: 0.4002 - accuracy: 0.8325 - val_loss: 0.3596 - val_accuracy: 0.8470 - 945ms/epoch - 2ms/step\n",
            "Epoch 9/100\n",
            "567/567 - 1s - loss: 0.3960 - accuracy: 0.8356 - val_loss: 0.3554 - val_accuracy: 0.8629 - 1s/epoch - 2ms/step\n",
            "Epoch 10/100\n",
            "567/567 - 1s - loss: 0.3921 - accuracy: 0.8367 - val_loss: 0.3589 - val_accuracy: 0.8555 - 948ms/epoch - 2ms/step\n",
            "Epoch 11/100\n",
            "567/567 - 1s - loss: 0.3894 - accuracy: 0.8383 - val_loss: 0.3557 - val_accuracy: 0.8529 - 921ms/epoch - 2ms/step\n",
            "Epoch 12/100\n",
            "567/567 - 1s - loss: 0.3865 - accuracy: 0.8401 - val_loss: 0.3539 - val_accuracy: 0.8549 - 962ms/epoch - 2ms/step\n",
            "Epoch 13/100\n",
            "567/567 - 1s - loss: 0.3838 - accuracy: 0.8410 - val_loss: 0.3532 - val_accuracy: 0.8529 - 1s/epoch - 2ms/step\n",
            "Epoch 14/100\n",
            "567/567 - 1s - loss: 0.3816 - accuracy: 0.8403 - val_loss: 0.3517 - val_accuracy: 0.8552 - 923ms/epoch - 2ms/step\n",
            "Epoch 15/100\n",
            "567/567 - 1s - loss: 0.3786 - accuracy: 0.8423 - val_loss: 0.3512 - val_accuracy: 0.8685 - 1s/epoch - 2ms/step\n",
            "Epoch 16/100\n",
            "567/567 - 1s - loss: 0.3771 - accuracy: 0.8422 - val_loss: 0.3496 - val_accuracy: 0.8611 - 1s/epoch - 2ms/step\n",
            "Epoch 17/100\n",
            "567/567 - 1s - loss: 0.3747 - accuracy: 0.8441 - val_loss: 0.3446 - val_accuracy: 0.8746 - 1s/epoch - 3ms/step\n",
            "Epoch 18/100\n",
            "567/567 - 1s - loss: 0.3726 - accuracy: 0.8442 - val_loss: 0.3462 - val_accuracy: 0.8690 - 1s/epoch - 2ms/step\n",
            "Epoch 19/100\n",
            "567/567 - 1s - loss: 0.3705 - accuracy: 0.8462 - val_loss: 0.3477 - val_accuracy: 0.8632 - 934ms/epoch - 2ms/step\n",
            "Epoch 20/100\n",
            "567/567 - 1s - loss: 0.3686 - accuracy: 0.8481 - val_loss: 0.3423 - val_accuracy: 0.8682 - 933ms/epoch - 2ms/step\n",
            "Epoch 21/100\n",
            "567/567 - 1s - loss: 0.3668 - accuracy: 0.8480 - val_loss: 0.3401 - val_accuracy: 0.8643 - 936ms/epoch - 2ms/step\n",
            "Epoch 22/100\n",
            "567/567 - 1s - loss: 0.3647 - accuracy: 0.8481 - val_loss: 0.3413 - val_accuracy: 0.8679 - 1s/epoch - 2ms/step\n",
            "Epoch 23/100\n",
            "567/567 - 1s - loss: 0.3630 - accuracy: 0.8505 - val_loss: 0.3365 - val_accuracy: 0.8823 - 970ms/epoch - 2ms/step\n",
            "Epoch 24/100\n",
            "567/567 - 1s - loss: 0.3615 - accuracy: 0.8500 - val_loss: 0.3368 - val_accuracy: 0.8788 - 971ms/epoch - 2ms/step\n",
            "Epoch 25/100\n",
            "567/567 - 1s - loss: 0.3607 - accuracy: 0.8513 - val_loss: 0.3342 - val_accuracy: 0.8679 - 1s/epoch - 2ms/step\n",
            "Epoch 26/100\n",
            "567/567 - 1s - loss: 0.3582 - accuracy: 0.8511 - val_loss: 0.3358 - val_accuracy: 0.8832 - 1s/epoch - 2ms/step\n",
            "Epoch 27/100\n",
            "567/567 - 1s - loss: 0.3569 - accuracy: 0.8533 - val_loss: 0.3388 - val_accuracy: 0.8658 - 928ms/epoch - 2ms/step\n",
            "Epoch 28/100\n",
            "567/567 - 1s - loss: 0.3557 - accuracy: 0.8554 - val_loss: 0.3364 - val_accuracy: 0.8820 - 926ms/epoch - 2ms/step\n",
            "Epoch 29/100\n",
            "567/567 - 1s - loss: 0.3550 - accuracy: 0.8547 - val_loss: 0.3381 - val_accuracy: 0.8670 - 1s/epoch - 3ms/step\n",
            "Epoch 30/100\n",
            "567/567 - 1s - loss: 0.3541 - accuracy: 0.8559 - val_loss: 0.3302 - val_accuracy: 0.8817 - 1s/epoch - 3ms/step\n",
            "Epoch 31/100\n",
            "567/567 - 1s - loss: 0.3528 - accuracy: 0.8572 - val_loss: 0.3291 - val_accuracy: 0.8814 - 1s/epoch - 2ms/step\n",
            "Epoch 32/100\n",
            "567/567 - 1s - loss: 0.3519 - accuracy: 0.8569 - val_loss: 0.3288 - val_accuracy: 0.8808 - 1s/epoch - 2ms/step\n",
            "Epoch 33/100\n",
            "567/567 - 1s - loss: 0.3510 - accuracy: 0.8579 - val_loss: 0.3275 - val_accuracy: 0.8805 - 1s/epoch - 2ms/step\n",
            "Epoch 34/100\n",
            "567/567 - 1s - loss: 0.3503 - accuracy: 0.8588 - val_loss: 0.3292 - val_accuracy: 0.8767 - 913ms/epoch - 2ms/step\n",
            "Epoch 35/100\n",
            "567/567 - 1s - loss: 0.3493 - accuracy: 0.8602 - val_loss: 0.3273 - val_accuracy: 0.8655 - 942ms/epoch - 2ms/step\n",
            "Epoch 36/100\n",
            "567/567 - 1s - loss: 0.3484 - accuracy: 0.8598 - val_loss: 0.3311 - val_accuracy: 0.8761 - 1s/epoch - 2ms/step\n",
            "Epoch 37/100\n",
            "567/567 - 1s - loss: 0.3484 - accuracy: 0.8611 - val_loss: 0.3282 - val_accuracy: 0.8793 - 934ms/epoch - 2ms/step\n",
            "Epoch 38/100\n",
            "567/567 - 1s - loss: 0.3472 - accuracy: 0.8611 - val_loss: 0.3216 - val_accuracy: 0.8802 - 950ms/epoch - 2ms/step\n",
            "Epoch 39/100\n",
            "567/567 - 1s - loss: 0.3462 - accuracy: 0.8604 - val_loss: 0.3265 - val_accuracy: 0.8896 - 912ms/epoch - 2ms/step\n",
            "Epoch 40/100\n",
            "567/567 - 1s - loss: 0.3464 - accuracy: 0.8605 - val_loss: 0.3282 - val_accuracy: 0.8814 - 1s/epoch - 2ms/step\n",
            "Epoch 41/100\n",
            "567/567 - 1s - loss: 0.3455 - accuracy: 0.8609 - val_loss: 0.3232 - val_accuracy: 0.8823 - 1s/epoch - 2ms/step\n",
            "Epoch 42/100\n",
            "567/567 - 1s - loss: 0.3451 - accuracy: 0.8599 - val_loss: 0.3245 - val_accuracy: 0.8879 - 1s/epoch - 3ms/step\n",
            "Epoch 43/100\n",
            "567/567 - 1s - loss: 0.3446 - accuracy: 0.8592 - val_loss: 0.3294 - val_accuracy: 0.8799 - 1s/epoch - 2ms/step\n",
            "Epoch 44/100\n",
            "567/567 - 1s - loss: 0.3440 - accuracy: 0.8617 - val_loss: 0.3303 - val_accuracy: 0.8805 - 1s/epoch - 2ms/step\n",
            "Epoch 45/100\n",
            "567/567 - 1s - loss: 0.3436 - accuracy: 0.8591 - val_loss: 0.3241 - val_accuracy: 0.8805 - 1s/epoch - 2ms/step\n",
            "Epoch 46/100\n",
            "567/567 - 1s - loss: 0.3434 - accuracy: 0.8601 - val_loss: 0.3255 - val_accuracy: 0.8858 - 1s/epoch - 2ms/step\n",
            "Epoch 47/100\n",
            "567/567 - 1s - loss: 0.3426 - accuracy: 0.8588 - val_loss: 0.3230 - val_accuracy: 0.8773 - 1s/epoch - 2ms/step\n",
            "Epoch 48/100\n",
            "567/567 - 1s - loss: 0.3428 - accuracy: 0.8609 - val_loss: 0.3251 - val_accuracy: 0.8817 - 931ms/epoch - 2ms/step\n",
            "Epoch 49/100\n",
            "567/567 - 1s - loss: 0.3422 - accuracy: 0.8613 - val_loss: 0.3300 - val_accuracy: 0.8767 - 933ms/epoch - 2ms/step\n",
            "Epoch 50/100\n",
            "567/567 - 1s - loss: 0.3423 - accuracy: 0.8589 - val_loss: 0.3257 - val_accuracy: 0.8835 - 1s/epoch - 2ms/step\n",
            "Epoch 51/100\n",
            "567/567 - 1s - loss: 0.3413 - accuracy: 0.8603 - val_loss: 0.3279 - val_accuracy: 0.8858 - 929ms/epoch - 2ms/step\n",
            "Epoch 52/100\n",
            "567/567 - 1s - loss: 0.3411 - accuracy: 0.8620 - val_loss: 0.3280 - val_accuracy: 0.8926 - 939ms/epoch - 2ms/step\n",
            "Epoch 53/100\n",
            "567/567 - 1s - loss: 0.3413 - accuracy: 0.8580 - val_loss: 0.3212 - val_accuracy: 0.8820 - 1s/epoch - 2ms/step\n",
            "Epoch 54/100\n",
            "567/567 - 1s - loss: 0.3409 - accuracy: 0.8614 - val_loss: 0.3202 - val_accuracy: 0.8790 - 1s/epoch - 2ms/step\n",
            "Epoch 55/100\n",
            "567/567 - 2s - loss: 0.3407 - accuracy: 0.8593 - val_loss: 0.3209 - val_accuracy: 0.8620 - 2s/epoch - 3ms/step\n",
            "Epoch 56/100\n",
            "567/567 - 2s - loss: 0.3400 - accuracy: 0.8625 - val_loss: 0.3277 - val_accuracy: 0.8752 - 2s/epoch - 3ms/step\n",
            "Epoch 57/100\n",
            "567/567 - 1s - loss: 0.3406 - accuracy: 0.8601 - val_loss: 0.3244 - val_accuracy: 0.8776 - 1s/epoch - 2ms/step\n",
            "Epoch 58/100\n",
            "567/567 - 1s - loss: 0.3398 - accuracy: 0.8610 - val_loss: 0.3206 - val_accuracy: 0.8843 - 1s/epoch - 2ms/step\n",
            "Epoch 59/100\n",
            "567/567 - 1s - loss: 0.3396 - accuracy: 0.8611 - val_loss: 0.3197 - val_accuracy: 0.8832 - 1s/epoch - 2ms/step\n",
            "Epoch 60/100\n",
            "567/567 - 1s - loss: 0.3396 - accuracy: 0.8621 - val_loss: 0.3206 - val_accuracy: 0.8849 - 957ms/epoch - 2ms/step\n",
            "Epoch 61/100\n",
            "567/567 - 1s - loss: 0.3394 - accuracy: 0.8608 - val_loss: 0.3230 - val_accuracy: 0.8917 - 987ms/epoch - 2ms/step\n",
            "Epoch 62/100\n",
            "567/567 - 1s - loss: 0.3390 - accuracy: 0.8625 - val_loss: 0.3258 - val_accuracy: 0.8799 - 928ms/epoch - 2ms/step\n",
            "Epoch 63/100\n",
            "567/567 - 1s - loss: 0.3390 - accuracy: 0.8630 - val_loss: 0.3180 - val_accuracy: 0.8858 - 1s/epoch - 2ms/step\n",
            "Epoch 64/100\n",
            "567/567 - 1s - loss: 0.3389 - accuracy: 0.8620 - val_loss: 0.3210 - val_accuracy: 0.8896 - 938ms/epoch - 2ms/step\n",
            "Epoch 65/100\n",
            "567/567 - 1s - loss: 0.3388 - accuracy: 0.8614 - val_loss: 0.3185 - val_accuracy: 0.8817 - 1s/epoch - 2ms/step\n",
            "Epoch 66/100\n",
            "567/567 - 1s - loss: 0.3381 - accuracy: 0.8620 - val_loss: 0.3169 - val_accuracy: 0.8820 - 1s/epoch - 2ms/step\n",
            "Epoch 67/100\n",
            "567/567 - 1s - loss: 0.3377 - accuracy: 0.8618 - val_loss: 0.3207 - val_accuracy: 0.8899 - 1s/epoch - 2ms/step\n",
            "Epoch 68/100\n",
            "567/567 - 1s - loss: 0.3379 - accuracy: 0.8611 - val_loss: 0.3227 - val_accuracy: 0.8870 - 1s/epoch - 3ms/step\n",
            "Epoch 69/100\n",
            "567/567 - 1s - loss: 0.3376 - accuracy: 0.8626 - val_loss: 0.3184 - val_accuracy: 0.8796 - 1s/epoch - 2ms/step\n",
            "Epoch 70/100\n",
            "567/567 - 1s - loss: 0.3375 - accuracy: 0.8628 - val_loss: 0.3199 - val_accuracy: 0.8867 - 929ms/epoch - 2ms/step\n",
            "Epoch 71/100\n",
            "567/567 - 1s - loss: 0.3371 - accuracy: 0.8620 - val_loss: 0.3195 - val_accuracy: 0.8796 - 954ms/epoch - 2ms/step\n",
            "Epoch 72/100\n",
            "567/567 - 1s - loss: 0.3367 - accuracy: 0.8631 - val_loss: 0.3196 - val_accuracy: 0.8870 - 1s/epoch - 2ms/step\n",
            "Epoch 73/100\n",
            "567/567 - 1s - loss: 0.3372 - accuracy: 0.8620 - val_loss: 0.3253 - val_accuracy: 0.8879 - 957ms/epoch - 2ms/step\n",
            "Epoch 74/100\n",
            "567/567 - 1s - loss: 0.3366 - accuracy: 0.8626 - val_loss: 0.3218 - val_accuracy: 0.8935 - 963ms/epoch - 2ms/step\n",
            "Epoch 75/100\n",
            "567/567 - 1s - loss: 0.3369 - accuracy: 0.8629 - val_loss: 0.3172 - val_accuracy: 0.8799 - 1s/epoch - 2ms/step\n",
            "Epoch 76/100\n",
            "567/567 - 1s - loss: 0.3365 - accuracy: 0.8623 - val_loss: 0.3183 - val_accuracy: 0.8832 - 1s/epoch - 2ms/step\n",
            "Epoch 77/100\n",
            "567/567 - 1s - loss: 0.3363 - accuracy: 0.8626 - val_loss: 0.3229 - val_accuracy: 0.8911 - 1s/epoch - 2ms/step\n",
            "Epoch 78/100\n",
            "567/567 - 1s - loss: 0.3366 - accuracy: 0.8617 - val_loss: 0.3184 - val_accuracy: 0.8855 - 1s/epoch - 2ms/step\n",
            "Epoch 79/100\n",
            "567/567 - 2s - loss: 0.3360 - accuracy: 0.8638 - val_loss: 0.3200 - val_accuracy: 0.8952 - 2s/epoch - 3ms/step\n",
            "Epoch 80/100\n",
            "567/567 - 2s - loss: 0.3359 - accuracy: 0.8639 - val_loss: 0.3171 - val_accuracy: 0.8873 - 2s/epoch - 3ms/step\n",
            "Epoch 81/100\n",
            "567/567 - 1s - loss: 0.3361 - accuracy: 0.8628 - val_loss: 0.3201 - val_accuracy: 0.8788 - 1s/epoch - 2ms/step\n",
            "Epoch 82/100\n",
            "567/567 - 1s - loss: 0.3355 - accuracy: 0.8626 - val_loss: 0.3178 - val_accuracy: 0.8861 - 995ms/epoch - 2ms/step\n",
            "Epoch 83/100\n",
            "567/567 - 1s - loss: 0.3359 - accuracy: 0.8625 - val_loss: 0.3184 - val_accuracy: 0.8876 - 1s/epoch - 2ms/step\n",
            "Epoch 84/100\n",
            "567/567 - 1s - loss: 0.3353 - accuracy: 0.8645 - val_loss: 0.3209 - val_accuracy: 0.8941 - 1s/epoch - 2ms/step\n",
            "Epoch 85/100\n",
            "567/567 - 1s - loss: 0.3355 - accuracy: 0.8641 - val_loss: 0.3150 - val_accuracy: 0.8855 - 1s/epoch - 2ms/step\n",
            "Epoch 86/100\n",
            "567/567 - 1s - loss: 0.3352 - accuracy: 0.8636 - val_loss: 0.3195 - val_accuracy: 0.8779 - 1s/epoch - 2ms/step\n",
            "Epoch 87/100\n",
            "567/567 - 1s - loss: 0.3346 - accuracy: 0.8644 - val_loss: 0.3157 - val_accuracy: 0.8855 - 1s/epoch - 2ms/step\n",
            "Epoch 88/100\n",
            "567/567 - 1s - loss: 0.3350 - accuracy: 0.8645 - val_loss: 0.3165 - val_accuracy: 0.8917 - 1s/epoch - 2ms/step\n",
            "Epoch 89/100\n",
            "567/567 - 1s - loss: 0.3347 - accuracy: 0.8628 - val_loss: 0.3204 - val_accuracy: 0.8770 - 1s/epoch - 2ms/step\n",
            "Epoch 90/100\n",
            "567/567 - 2s - loss: 0.3346 - accuracy: 0.8643 - val_loss: 0.3201 - val_accuracy: 0.8779 - 2s/epoch - 3ms/step\n",
            "Epoch 91/100\n",
            "567/567 - 2s - loss: 0.3351 - accuracy: 0.8647 - val_loss: 0.3195 - val_accuracy: 0.8793 - 2s/epoch - 3ms/step\n",
            "Epoch 92/100\n",
            "567/567 - 1s - loss: 0.3342 - accuracy: 0.8649 - val_loss: 0.3182 - val_accuracy: 0.8779 - 1s/epoch - 3ms/step\n",
            "Epoch 93/100\n",
            "567/567 - 1s - loss: 0.3344 - accuracy: 0.8640 - val_loss: 0.3210 - val_accuracy: 0.8852 - 1s/epoch - 2ms/step\n",
            "Epoch 94/100\n",
            "567/567 - 1s - loss: 0.3342 - accuracy: 0.8647 - val_loss: 0.3191 - val_accuracy: 0.8852 - 1s/epoch - 2ms/step\n",
            "Epoch 95/100\n",
            "567/567 - 1s - loss: 0.3340 - accuracy: 0.8638 - val_loss: 0.3148 - val_accuracy: 0.8905 - 971ms/epoch - 2ms/step\n",
            "Epoch 96/100\n",
            "567/567 - 1s - loss: 0.3339 - accuracy: 0.8643 - val_loss: 0.3153 - val_accuracy: 0.8782 - 1s/epoch - 2ms/step\n",
            "Epoch 97/100\n",
            "567/567 - 1s - loss: 0.3338 - accuracy: 0.8626 - val_loss: 0.3194 - val_accuracy: 0.8946 - 990ms/epoch - 2ms/step\n",
            "Epoch 98/100\n",
            "567/567 - 1s - loss: 0.3326 - accuracy: 0.8628 - val_loss: 0.3223 - val_accuracy: 0.8605 - 1s/epoch - 2ms/step\n",
            "Epoch 99/100\n",
            "567/567 - 1s - loss: 0.3336 - accuracy: 0.8646 - val_loss: 0.3187 - val_accuracy: 0.8882 - 972ms/epoch - 2ms/step\n",
            "Epoch 100/100\n",
            "567/567 - 1s - loss: 0.3335 - accuracy: 0.8650 - val_loss: 0.3140 - val_accuracy: 0.8917 - 1s/epoch - 2ms/step\n",
            "Neural Network took 116.75520467758179 seconds to train.\n"
          ]
        }
      ],
      "source": [
        "### Actually training the model\n",
        "\n",
        "batch_size = 24 # The number of samples the network sees before it backpropagates (batch size) # 24 & 32 yield accuracy = 87%\n",
        "epochs = 100 # The number of times the network will loop through the entire dataset (epochs)\n",
        "shuffle = True # Set whether to shuffle the training data so the model doesn't see it sequentially \n",
        "verbose = 2 # Set whether the model will output information when trained (0 = no output; 2 = output accuracy every epoch)\n",
        "\n",
        "# Train the neural network!\n",
        "start = time.time()\n",
        "\n",
        "history = nn.fit(x_train_bal, y_train_bal, validation_data=(x_test_bal, y_test_bal), \n",
        "          batch_size=batch_size, epochs=epochs, shuffle=shuffle, verbose=verbose)\n",
        "\n",
        "end = time.time()\n",
        "print(\"Neural Network took \"+str(end-start)+\" seconds to train.\")"
      ],
      "id": "Qnw4ceq7PeP7"
    },
    {
      "cell_type": "code",
      "execution_count": null,
      "metadata": {
        "id": "iHik4NxwPeP7",
        "outputId": "e5212360-1e9b-4aff-b498-caf11ae6ee2a",
        "colab": {
          "base_uri": "https://localhost:8080/",
          "height": 470
        }
      },
      "outputs": [
        {
          "output_type": "display_data",
          "data": {
            "text/plain": [
              "<Figure size 640x480 with 2 Axes>"
            ],
            "image/png": "[encoded data removed]"
          },
          "metadata": {}
        }
      ],
      "source": [
        "#Accuracy & loss with epochs\n",
        "#Neural networks train in epochs. During each epoch, the model trains by sweeping over each layer, \n",
        "#adjusting weights based on their resulting errors, through processes called forward propagation and backpropagation. \n",
        "#By plotting the model accuracy & loss which each epoch, we can visualize how the model error evolves with training.\n",
        "\n",
        "figure, axes = plt.subplots(nrows=2,ncols=1)\n",
        "figure.tight_layout(pad=3.0)\n",
        "\n",
        "# plot accuracy during training\n",
        "plt.subplot(211)\n",
        "plt.title('Accuracy')\n",
        "plt.plot(history.history['accuracy'], label='train')\n",
        "plt.plot(history.history['val_accuracy'], label='test')\n",
        "plt.legend();\n",
        "\n",
        "# plot loss during training\n",
        "plt.subplot(212)\n",
        "plt.title('Loss')\n",
        "plt.plot(history.history['loss'], label='train')\n",
        "plt.plot(history.history['val_loss'], label='test')\n",
        "plt.xlabel(\"Epoch\");\n",
        "plt.legend()\n",
        "plt.show();"
      ],
      "id": "iHik4NxwPeP7"
    },
    {
      "cell_type": "code",
      "execution_count": null,
      "metadata": {
        "id": "1X5Rv10MPeP7",
        "outputId": "01194364-0394-456e-f438-24c072eef544",
        "colab": {
          "base_uri": "https://localhost:8080/",
          "height": 503
        }
      },
      "outputs": [
        {
          "output_type": "stream",
          "name": "stdout",
          "text": [
            "107/107 [==============================] - 0s 1ms/step\n",
            "Accuracy: 0.8917\n",
            "Recall: 0.9041\n"
          ]
        },
        {
          "output_type": "display_data",
          "data": {
            "text/plain": [
              "<Figure size 640x480 with 2 Axes>"
            ],
            "image/png": "[encoded data removed]"
          },
          "metadata": {}
        }
      ],
      "source": [
        "##3. Assess Neural Network's performance using testing data\n",
        "## Though the accuracy is pictured above, additionally quantify recall on testing data with the \n",
        "## same functions used previously to remain consistent\n",
        "\n",
        "pred_test= (nn.predict(x_test_bal)>0.5).astype(\"int32\")\n",
        "nn_acc, nn_rec = bin_metrics(y_test_bal, pred_test)\n",
        "plot_cm(y_test_bal, pred_test)"
      ],
      "id": "1X5Rv10MPeP7"
    },
    {
      "cell_type": "code",
      "execution_count": null,
      "metadata": {
        "id": "vn5Ig7L0PeP8",
        "outputId": "4a6b3809-845a-4ccf-f590-016c1a578729",
        "colab": {
          "base_uri": "https://localhost:8080/"
        }
      },
      "outputs": [
        {
          "output_type": "stream",
          "name": "stdout",
          "text": [
            "Training metrics:\n",
            "426/426 [==============================] - 1s 2ms/step\n",
            "Accuracy: 0.8672\n",
            "Recall: 0.8762\n",
            " \n",
            "Testing metrics:\n",
            "Accuracy: 0.8917\n",
            "Recall: 0.9041\n"
          ]
        }
      ],
      "source": [
        "## 4. Check to see if the Neural Network is overfitting (or underfitting)\n",
        "#Remember:\n",
        "#testing metrics > training metrics = underfitting, model is too simple\n",
        "#testing metrics < training metrics = overfitting, model is too complex\n",
        "\n",
        "#Note: Neural networks can easily overfit because they are complex and can fit to the training data extremely well, \n",
        "# Overfitting prevents neural networks from generalizing to other data (like the testing data).\n",
        "\n",
        "# Compare testing data metrics to data training metrics.\n",
        "print(\"Training metrics:\")\n",
        "nn_pred_train= (nn.predict(x_train_bal)>0.5).astype(\"int32\")\n",
        "bin_metrics(y_train_bal,nn_pred_train);\n",
        "\n",
        "# As a reminder, display testing metrics:\n",
        "print(\" \")\n",
        "print(\"Testing metrics:\")\n",
        "bin_metrics(y_test_bal, pred_test);"
      ],
      "id": "vn5Ig7L0PeP8"
    },
    {
      "cell_type": "code",
      "execution_count": null,
      "metadata": {
        "id": "itXEms1CPeP8",
        "outputId": "3cf11b72-e452-4fac-b934-1c2194e61b45",
        "colab": {
          "base_uri": "https://localhost:8080/"
        }
      },
      "outputs": [
        {
          "output_type": "stream",
          "name": "stdout",
          "text": [
            "1/1 [==============================] - 0s 106ms/step\n",
            "The meteorological conditions are: \n",
            "day             2016-04-16\n",
            "hour              0.916667\n",
            "temp_F                32.2\n",
            "RH                    87.5\n",
            "dewtemp_F             28.9\n",
            "wind_mph              14.1\n",
            "wind_dir               333\n",
            "windgust              21.7\n",
            "windgust_dir           318\n",
            "pres_Hg             845.66\n",
            "SOLIN_Wm2              0.0\n",
            "Prec_inches           0.07\n",
            "prec_occur               1\n",
            "Name: 2566, dtype: object\n",
            "There is a 99.45% chance of precipitation given those meteorological conditions.\n"
          ]
        }
      ],
      "source": [
        "## 5. Make a prediction with the Neural Network\n",
        "\n",
        "# prediction output is in the format [probability no rain, probability rain]\n",
        "nn_prediction = nn.predict(np.array(testpredictor).reshape(1, -1))[0][0]*100\n",
        "print(\"The meteorological conditions are: \")\n",
        "print(origvals)\n",
        "print(\"There is a {0:.{digits}f}% chance of precipitation given those meteorological conditions.\".format(nn_prediction, digits=2))\n"
      ],
      "id": "itXEms1CPeP8"
    },
    {
      "cell_type": "markdown",
      "metadata": {
        "id": "qMBlxJ0EPeP8"
      },
      "source": [
        "## SUMMARY: Compare all Four Machine Learning Models"
      ],
      "id": "qMBlxJ0EPeP8"
    },
    {
      "cell_type": "code",
      "execution_count": null,
      "metadata": {
        "id": "iSZxHS4fPeP8",
        "outputId": "ec180786-8b7d-46f2-f62c-81c319aa2852",
        "colab": {
          "base_uri": "https://localhost:8080/"
        }
      },
      "outputs": [
        {
          "output_type": "execute_result",
          "data": {
            "text/plain": [
              "                    Logistic Regression  Random Forest  \\\n",
              "Metrics                                                  \n",
              "Accuracy                       0.825029       0.775577   \n",
              "Recall                         0.851114       0.704317   \n",
              "Prediction example            95.425174      82.585488   \n",
              "\n",
              "                    Singular Vector Machine  Neural Network  \n",
              "Metrics                                                      \n",
              "Accuracy                           0.895452        0.891701  \n",
              "Recall                             0.912581        0.904061  \n",
              "Prediction example                99.577246       99.453008  "
            ],
            "text/html": [
              "\n",
              "  <div id=\"df-0bb03279-1463-42a8-a834-e5914229263b\">\n",
              "    <div class=\"colab-df-container\">\n",
              "      <div>\n",
              "<style scoped>\n",
              "    .dataframe tbody tr th:only-of-type {\n",
              "        vertical-align: middle;\n",
              "    }\n",
              "\n",
              "    .dataframe tbody tr th {\n",
              "        vertical-align: top;\n",
              "    }\n",
              "\n",
              "    .dataframe thead th {\n",
              "        text-align: right;\n",
              "    }\n",
              "</style>\n",
              "<table border=\"1\" class=\"dataframe\">\n",
              "  <thead>\n",
              "    <tr style=\"text-align: right;\">\n",
              "      <th></th>\n",
              "      <th>Logistic Regression</th>\n",
              "      <th>Random Forest</th>\n",
              "      <th>Singular Vector Machine</th>\n",
              "      <th>Neural Network</th>\n",
              "    </tr>\n",
              "    <tr>\n",
              "      <th>Metrics</th>\n",
              "      <th></th>\n",
              "      <th></th>\n",
              "      <th></th>\n",
              "      <th></th>\n",
              "    </tr>\n",
              "  </thead>\n",
              "  <tbody>\n",
              "    <tr>\n",
              "      <th>Accuracy</th>\n",
              "      <td>0.825029</td>\n",
              "      <td>0.775577</td>\n",
              "      <td>0.895452</td>\n",
              "      <td>0.891701</td>\n",
              "    </tr>\n",
              "    <tr>\n",
              "      <th>Recall</th>\n",
              "      <td>0.851114</td>\n",
              "      <td>0.704317</td>\n",
              "      <td>0.912581</td>\n",
              "      <td>0.904061</td>\n",
              "    </tr>\n",
              "    <tr>\n",
              "      <th>Prediction example</th>\n",
              "      <td>95.425174</td>\n",
              "      <td>82.585488</td>\n",
              "      <td>99.577246</td>\n",
              "      <td>99.453008</td>\n",
              "    </tr>\n",
              "  </tbody>\n",
              "</table>\n",
              "</div>\n",
              "      <button class=\"colab-df-convert\" onclick=\"convertToInteractive('df-0bb03279-1463-42a8-a834-e5914229263b')\"\n",
              "              title=\"Convert this dataframe to an interactive table.\"\n",
              "              style=\"display:none;\">\n",
              "        \n",
              "  <svg xmlns=\"http://www.w3.org/2000/svg\" height=\"24px\"viewBox=\"0 0 24 24\"\n",
              "       width=\"24px\">\n",
              "    <path d=\"M0 0h24v24H0V0z\" fill=\"none\"/>\n",
              "    <path d=\"M18.56 5.44l.94 2.06.94-2.06 2.06-.94-2.06-.94-.94-2.06-.94 2.06-2.06.94zm-11 1L8.5 8.5l.94-2.06 2.06-.94-2.06-.94L8.5 2.5l-.94 2.06-2.06.94zm10 10l.94 2.06.94-2.06 2.06-.94-2.06-.94-.94-2.06-.94 2.06-2.06.94z\"/><path d=\"M17.41 7.96l-1.37-1.37c-.4-.4-.92-.59-1.43-.59-.52 0-1.04.2-1.43.59L10.3 9.45l-7.72 7.72c-.78.78-.78 2.05 0 2.83L4 21.41c.39.39.9.59 1.41.59.51 0 1.02-.2 1.41-.59l7.78-7.78 2.81-2.81c.8-.78.8-2.07 0-2.86zM5.41 20L4 18.59l7.72-7.72 1.47 1.35L5.41 20z\"/>\n",
              "  </svg>\n",
              "      </button>\n",
              "      \n",
              "  <style>\n",
              "    .colab-df-container {\n",
              "      display:flex;\n",
              "      flex-wrap:wrap;\n",
              "      gap: 12px;\n",
              "    }\n",
              "\n",
              "    .colab-df-convert {\n",
              "      background-color: #E8F0FE;\n",
              "      border: none;\n",
              "      border-radius: 50%;\n",
              "      cursor: pointer;\n",
              "      display: none;\n",
              "      fill: #1967D2;\n",
              "      height: 32px;\n",
              "      padding: 0 0 0 0;\n",
              "      width: 32px;\n",
              "    }\n",
              "\n",
              "    .colab-df-convert:hover {\n",
              "      background-color: #E2EBFA;\n",
              "      box-shadow: 0px 1px 2px rgba(60, 64, 67, 0.3), 0px 1px 3px 1px rgba(60, 64, 67, 0.15);\n",
              "      fill: #174EA6;\n",
              "    }\n",
              "\n",
              "    [theme=dark] .colab-df-convert {\n",
              "      background-color: #3B4455;\n",
              "      fill: #D2E3FC;\n",
              "    }\n",
              "\n",
              "    [theme=dark] .colab-df-convert:hover {\n",
              "      background-color: #434B5C;\n",
              "      box-shadow: 0px 1px 3px 1px rgba(0, 0, 0, 0.15);\n",
              "      filter: drop-shadow(0px 1px 2px rgba(0, 0, 0, 0.3));\n",
              "      fill: #FFFFFF;\n",
              "    }\n",
              "  </style>\n",
              "\n",
              "      <script>\n",
              "        const buttonEl =\n",
              "          document.querySelector('#df-0bb03279-1463-42a8-a834-e5914229263b button.colab-df-convert');\n",
              "        buttonEl.style.display =\n",
              "          google.colab.kernel.accessAllowed ? 'block' : 'none';\n",
              "\n",
              "        async function convertToInteractive(key) {\n",
              "          const element = document.querySelector('#df-0bb03279-1463-42a8-a834-e5914229263b');\n",
              "          const dataTable =\n",
              "            await google.colab.kernel.invokeFunction('convertToInteractive',\n",
              "                                                     [key], {});\n",
              "          if (!dataTable) return;\n",
              "\n",
              "          const docLinkHtml = 'Like what you see? Visit the ' +\n",
              "            '<a target=\"_blank\" href=https://colab.research.google.com/notebooks/data_table.ipynb>data table notebook</a>'\n",
              "            + ' to learn more about interactive tables.';\n",
              "          element.innerHTML = '';\n",
              "          dataTable['output_type'] = 'display_data';\n",
              "          await google.colab.output.renderOutput(dataTable, element);\n",
              "          const docLink = document.createElement('div');\n",
              "          docLink.innerHTML = docLinkHtml;\n",
              "          element.appendChild(docLink);\n",
              "        }\n",
              "      </script>\n",
              "    </div>\n",
              "  </div>\n",
              "  "
            ]
          },
          "metadata": {},
          "execution_count": 62
        }
      ],
      "source": [
        "model_metrics = pd.DataFrame({'Metrics':['Accuracy','Recall','Prediction example'],\n",
        "     'Logistic Regression':[lr_acc, lr_rec, lr_prediction],\n",
        "    'Random Forest':[forest_acc, forest_rec, forest_prediction],\n",
        "    'Singular Vector Machine':[svm_acc, svm_rec, svm_prediction],\n",
        "    'Neural Network':[nn_acc, nn_rec, nn_prediction]})\n",
        "model_metrics = model_metrics.set_index('Metrics')\n",
        "model_metrics"
      ],
      "id": "iSZxHS4fPeP8"
    },
    {
      "cell_type": "markdown",
      "metadata": {
        "id": "IipxzztmPeP8"
      },
      "source": [
        "## STEP 4: Assess Feature Importance\n",
        "\n",
        "Note: Feature Importance is not possible with non-linear Singular Vector Machines because the data is transformed by the kernel into another space that is unrelated to the input space."
      ],
      "id": "IipxzztmPeP8"
    },
    {
      "cell_type": "code",
      "execution_count": null,
      "metadata": {
        "id": "bUTxeGbxPeP8",
        "outputId": "cd616702-1666-4af5-9e03-238c200a78ce",
        "colab": {
          "base_uri": "https://localhost:8080/"
        }
      },
      "outputs": [
        {
          "output_type": "execute_result",
          "data": {
            "text/plain": [
              "              importance\n",
              "RH              9.691046\n",
              "windgust        8.694310\n",
              "temp_F          3.403126\n",
              "SOLIN_Wm2       1.830624\n",
              "pres_Hg         1.004512\n",
              "wind_mph        0.331343\n",
              "wind_dir        0.269251\n",
              "dewtemp_F       0.145528\n",
              "windgust_dir    0.089092"
            ],
            "text/html": [
              "\n",
              "  <div id=\"df-f7cf8d3f-480c-404d-9724-e078e14ad751\">\n",
              "    <div class=\"colab-df-container\">\n",
              "      <div>\n",
              "<style scoped>\n",
              "    .dataframe tbody tr th:only-of-type {\n",
              "        vertical-align: middle;\n",
              "    }\n",
              "\n",
              "    .dataframe tbody tr th {\n",
              "        vertical-align: top;\n",
              "    }\n",
              "\n",
              "    .dataframe thead th {\n",
              "        text-align: right;\n",
              "    }\n",
              "</style>\n",
              "<table border=\"1\" class=\"dataframe\">\n",
              "  <thead>\n",
              "    <tr style=\"text-align: right;\">\n",
              "      <th></th>\n",
              "      <th>importance</th>\n",
              "    </tr>\n",
              "  </thead>\n",
              "  <tbody>\n",
              "    <tr>\n",
              "      <th>RH</th>\n",
              "      <td>9.691046</td>\n",
              "    </tr>\n",
              "    <tr>\n",
              "      <th>windgust</th>\n",
              "      <td>8.694310</td>\n",
              "    </tr>\n",
              "    <tr>\n",
              "      <th>temp_F</th>\n",
              "      <td>3.403126</td>\n",
              "    </tr>\n",
              "    <tr>\n",
              "      <th>SOLIN_Wm2</th>\n",
              "      <td>1.830624</td>\n",
              "    </tr>\n",
              "    <tr>\n",
              "      <th>pres_Hg</th>\n",
              "      <td>1.004512</td>\n",
              "    </tr>\n",
              "    <tr>\n",
              "      <th>wind_mph</th>\n",
              "      <td>0.331343</td>\n",
              "    </tr>\n",
              "    <tr>\n",
              "      <th>wind_dir</th>\n",
              "      <td>0.269251</td>\n",
              "    </tr>\n",
              "    <tr>\n",
              "      <th>dewtemp_F</th>\n",
              "      <td>0.145528</td>\n",
              "    </tr>\n",
              "    <tr>\n",
              "      <th>windgust_dir</th>\n",
              "      <td>0.089092</td>\n",
              "    </tr>\n",
              "  </tbody>\n",
              "</table>\n",
              "</div>\n",
              "      <button class=\"colab-df-convert\" onclick=\"convertToInteractive('df-f7cf8d3f-480c-404d-9724-e078e14ad751')\"\n",
              "              title=\"Convert this dataframe to an interactive table.\"\n",
              "              style=\"display:none;\">\n",
              "        \n",
              "  <svg xmlns=\"http://www.w3.org/2000/svg\" height=\"24px\"viewBox=\"0 0 24 24\"\n",
              "       width=\"24px\">\n",
              "    <path d=\"M0 0h24v24H0V0z\" fill=\"none\"/>\n",
              "    <path d=\"M18.56 5.44l.94 2.06.94-2.06 2.06-.94-2.06-.94-.94-2.06-.94 2.06-2.06.94zm-11 1L8.5 8.5l.94-2.06 2.06-.94-2.06-.94L8.5 2.5l-.94 2.06-2.06.94zm10 10l.94 2.06.94-2.06 2.06-.94-2.06-.94-.94-2.06-.94 2.06-2.06.94z\"/><path d=\"M17.41 7.96l-1.37-1.37c-.4-.4-.92-.59-1.43-.59-.52 0-1.04.2-1.43.59L10.3 9.45l-7.72 7.72c-.78.78-.78 2.05 0 2.83L4 21.41c.39.39.9.59 1.41.59.51 0 1.02-.2 1.41-.59l7.78-7.78 2.81-2.81c.8-.78.8-2.07 0-2.86zM5.41 20L4 18.59l7.72-7.72 1.47 1.35L5.41 20z\"/>\n",
              "  </svg>\n",
              "      </button>\n",
              "      \n",
              "  <style>\n",
              "    .colab-df-container {\n",
              "      display:flex;\n",
              "      flex-wrap:wrap;\n",
              "      gap: 12px;\n",
              "    }\n",
              "\n",
              "    .colab-df-convert {\n",
              "      background-color: #E8F0FE;\n",
              "      border: none;\n",
              "      border-radius: 50%;\n",
              "      cursor: pointer;\n",
              "      display: none;\n",
              "      fill: #1967D2;\n",
              "      height: 32px;\n",
              "      padding: 0 0 0 0;\n",
              "      width: 32px;\n",
              "    }\n",
              "\n",
              "    .colab-df-convert:hover {\n",
              "      background-color: #E2EBFA;\n",
              "      box-shadow: 0px 1px 2px rgba(60, 64, 67, 0.3), 0px 1px 3px 1px rgba(60, 64, 67, 0.15);\n",
              "      fill: #174EA6;\n",
              "    }\n",
              "\n",
              "    [theme=dark] .colab-df-convert {\n",
              "      background-color: #3B4455;\n",
              "      fill: #D2E3FC;\n",
              "    }\n",
              "\n",
              "    [theme=dark] .colab-df-convert:hover {\n",
              "      background-color: #434B5C;\n",
              "      box-shadow: 0px 1px 3px 1px rgba(0, 0, 0, 0.15);\n",
              "      filter: drop-shadow(0px 1px 2px rgba(0, 0, 0, 0.3));\n",
              "      fill: #FFFFFF;\n",
              "    }\n",
              "  </style>\n",
              "\n",
              "      <script>\n",
              "        const buttonEl =\n",
              "          document.querySelector('#df-f7cf8d3f-480c-404d-9724-e078e14ad751 button.colab-df-convert');\n",
              "        buttonEl.style.display =\n",
              "          google.colab.kernel.accessAllowed ? 'block' : 'none';\n",
              "\n",
              "        async function convertToInteractive(key) {\n",
              "          const element = document.querySelector('#df-f7cf8d3f-480c-404d-9724-e078e14ad751');\n",
              "          const dataTable =\n",
              "            await google.colab.kernel.invokeFunction('convertToInteractive',\n",
              "                                                     [key], {});\n",
              "          if (!dataTable) return;\n",
              "\n",
              "          const docLinkHtml = 'Like what you see? Visit the ' +\n",
              "            '<a target=\"_blank\" href=https://colab.research.google.com/notebooks/data_table.ipynb>data table notebook</a>'\n",
              "            + ' to learn more about interactive tables.';\n",
              "          element.innerHTML = '';\n",
              "          dataTable['output_type'] = 'display_data';\n",
              "          await google.colab.output.renderOutput(dataTable, element);\n",
              "          const docLink = document.createElement('div');\n",
              "          docLink.innerHTML = docLinkHtml;\n",
              "          element.appendChild(docLink);\n",
              "        }\n",
              "      </script>\n",
              "    </div>\n",
              "  </div>\n",
              "  "
            ]
          },
          "metadata": {},
          "execution_count": 63
        }
      ],
      "source": [
        "## Feature importance in Logistical Regression Model\n",
        "\n",
        "pd.DataFrame(abs(lr.coef_[0]),\n",
        "             index = x.columns,\n",
        "             columns=['importance']).sort_values('importance',ascending=False)"
      ],
      "id": "bUTxeGbxPeP8"
    },
    {
      "cell_type": "code",
      "execution_count": null,
      "metadata": {
        "id": "lg9FMEhIPeP8",
        "outputId": "3c835e73-d630-4b00-b99e-3b7d0e0702f0",
        "colab": {
          "base_uri": "https://localhost:8080/"
        }
      },
      "outputs": [
        {
          "output_type": "execute_result",
          "data": {
            "text/plain": [
              "              importance\n",
              "RH              0.510672\n",
              "dewtemp_F       0.196140\n",
              "temp_F          0.115350\n",
              "wind_mph        0.071002\n",
              "windgust        0.055271\n",
              "SOLIN_Wm2       0.045692\n",
              "windgust_dir    0.005874\n",
              "wind_dir        0.000000\n",
              "pres_Hg         0.000000"
            ],
            "text/html": [
              "\n",
              "  <div id=\"df-e0d9b7e2-561e-4648-b675-fcac20d1142d\">\n",
              "    <div class=\"colab-df-container\">\n",
              "      <div>\n",
              "<style scoped>\n",
              "    .dataframe tbody tr th:only-of-type {\n",
              "        vertical-align: middle;\n",
              "    }\n",
              "\n",
              "    .dataframe tbody tr th {\n",
              "        vertical-align: top;\n",
              "    }\n",
              "\n",
              "    .dataframe thead th {\n",
              "        text-align: right;\n",
              "    }\n",
              "</style>\n",
              "<table border=\"1\" class=\"dataframe\">\n",
              "  <thead>\n",
              "    <tr style=\"text-align: right;\">\n",
              "      <th></th>\n",
              "      <th>importance</th>\n",
              "    </tr>\n",
              "  </thead>\n",
              "  <tbody>\n",
              "    <tr>\n",
              "      <th>RH</th>\n",
              "      <td>0.510672</td>\n",
              "    </tr>\n",
              "    <tr>\n",
              "      <th>dewtemp_F</th>\n",
              "      <td>0.196140</td>\n",
              "    </tr>\n",
              "    <tr>\n",
              "      <th>temp_F</th>\n",
              "      <td>0.115350</td>\n",
              "    </tr>\n",
              "    <tr>\n",
              "      <th>wind_mph</th>\n",
              "      <td>0.071002</td>\n",
              "    </tr>\n",
              "    <tr>\n",
              "      <th>windgust</th>\n",
              "      <td>0.055271</td>\n",
              "    </tr>\n",
              "    <tr>\n",
              "      <th>SOLIN_Wm2</th>\n",
              "      <td>0.045692</td>\n",
              "    </tr>\n",
              "    <tr>\n",
              "      <th>windgust_dir</th>\n",
              "      <td>0.005874</td>\n",
              "    </tr>\n",
              "    <tr>\n",
              "      <th>wind_dir</th>\n",
              "      <td>0.000000</td>\n",
              "    </tr>\n",
              "    <tr>\n",
              "      <th>pres_Hg</th>\n",
              "      <td>0.000000</td>\n",
              "    </tr>\n",
              "  </tbody>\n",
              "</table>\n",
              "</div>\n",
              "      <button class=\"colab-df-convert\" onclick=\"convertToInteractive('df-e0d9b7e2-561e-4648-b675-fcac20d1142d')\"\n",
              "              title=\"Convert this dataframe to an interactive table.\"\n",
              "              style=\"display:none;\">\n",
              "        \n",
              "  <svg xmlns=\"http://www.w3.org/2000/svg\" height=\"24px\"viewBox=\"0 0 24 24\"\n",
              "       width=\"24px\">\n",
              "    <path d=\"M0 0h24v24H0V0z\" fill=\"none\"/>\n",
              "    <path d=\"M18.56 5.44l.94 2.06.94-2.06 2.06-.94-2.06-.94-.94-2.06-.94 2.06-2.06.94zm-11 1L8.5 8.5l.94-2.06 2.06-.94-2.06-.94L8.5 2.5l-.94 2.06-2.06.94zm10 10l.94 2.06.94-2.06 2.06-.94-2.06-.94-.94-2.06-.94 2.06-2.06.94z\"/><path d=\"M17.41 7.96l-1.37-1.37c-.4-.4-.92-.59-1.43-.59-.52 0-1.04.2-1.43.59L10.3 9.45l-7.72 7.72c-.78.78-.78 2.05 0 2.83L4 21.41c.39.39.9.59 1.41.59.51 0 1.02-.2 1.41-.59l7.78-7.78 2.81-2.81c.8-.78.8-2.07 0-2.86zM5.41 20L4 18.59l7.72-7.72 1.47 1.35L5.41 20z\"/>\n",
              "  </svg>\n",
              "      </button>\n",
              "      \n",
              "  <style>\n",
              "    .colab-df-container {\n",
              "      display:flex;\n",
              "      flex-wrap:wrap;\n",
              "      gap: 12px;\n",
              "    }\n",
              "\n",
              "    .colab-df-convert {\n",
              "      background-color: #E8F0FE;\n",
              "      border: none;\n",
              "      border-radius: 50%;\n",
              "      cursor: pointer;\n",
              "      display: none;\n",
              "      fill: #1967D2;\n",
              "      height: 32px;\n",
              "      padding: 0 0 0 0;\n",
              "      width: 32px;\n",
              "    }\n",
              "\n",
              "    .colab-df-convert:hover {\n",
              "      background-color: #E2EBFA;\n",
              "      box-shadow: 0px 1px 2px rgba(60, 64, 67, 0.3), 0px 1px 3px 1px rgba(60, 64, 67, 0.15);\n",
              "      fill: #174EA6;\n",
              "    }\n",
              "\n",
              "    [theme=dark] .colab-df-convert {\n",
              "      background-color: #3B4455;\n",
              "      fill: #D2E3FC;\n",
              "    }\n",
              "\n",
              "    [theme=dark] .colab-df-convert:hover {\n",
              "      background-color: #434B5C;\n",
              "      box-shadow: 0px 1px 3px 1px rgba(0, 0, 0, 0.15);\n",
              "      filter: drop-shadow(0px 1px 2px rgba(0, 0, 0, 0.3));\n",
              "      fill: #FFFFFF;\n",
              "    }\n",
              "  </style>\n",
              "\n",
              "      <script>\n",
              "        const buttonEl =\n",
              "          document.querySelector('#df-e0d9b7e2-561e-4648-b675-fcac20d1142d button.colab-df-convert');\n",
              "        buttonEl.style.display =\n",
              "          google.colab.kernel.accessAllowed ? 'block' : 'none';\n",
              "\n",
              "        async function convertToInteractive(key) {\n",
              "          const element = document.querySelector('#df-e0d9b7e2-561e-4648-b675-fcac20d1142d');\n",
              "          const dataTable =\n",
              "            await google.colab.kernel.invokeFunction('convertToInteractive',\n",
              "                                                     [key], {});\n",
              "          if (!dataTable) return;\n",
              "\n",
              "          const docLinkHtml = 'Like what you see? Visit the ' +\n",
              "            '<a target=\"_blank\" href=https://colab.research.google.com/notebooks/data_table.ipynb>data table notebook</a>'\n",
              "            + ' to learn more about interactive tables.';\n",
              "          element.innerHTML = '';\n",
              "          dataTable['output_type'] = 'display_data';\n",
              "          await google.colab.output.renderOutput(dataTable, element);\n",
              "          const docLink = document.createElement('div');\n",
              "          docLink.innerHTML = docLinkHtml;\n",
              "          element.appendChild(docLink);\n",
              "        }\n",
              "      </script>\n",
              "    </div>\n",
              "  </div>\n",
              "  "
            ]
          },
          "metadata": {},
          "execution_count": 64
        }
      ],
      "source": [
        "## Feature importance in Random Forest Model\n",
        "\n",
        "pd.DataFrame(forest.feature_importances_,\n",
        "                                   index = x.columns, \n",
        "                                   columns=['importance']).sort_values('importance', ascending=False)"
      ],
      "id": "lg9FMEhIPeP8"
    },
    {
      "cell_type": "code",
      "execution_count": null,
      "metadata": {
        "id": "FFC2hlq8PeP8",
        "outputId": "00e03470-57e9-410b-8d8c-a334fb1a41b8",
        "colab": {
          "base_uri": "https://localhost:8080/"
        }
      },
      "outputs": [
        {
          "output_type": "stream",
          "name": "stdout",
          "text": [
            "1/1 [==============================] - 0s 84ms/step\n",
            "1/1 [==============================] - 0s 34ms/step\n",
            "1/1 [==============================] - 0s 33ms/step\n",
            "1/1 [==============================] - 0s 32ms/step\n",
            "1/1 [==============================] - 0s 37ms/step\n",
            "1/1 [==============================] - 0s 41ms/step\n",
            "1/1 [==============================] - 0s 35ms/step\n",
            "1/1 [==============================] - 0s 32ms/step\n",
            "1/1 [==============================] - 0s 38ms/step\n"
          ]
        },
        {
          "output_type": "execute_result",
          "data": {
            "text/plain": [
              "              importance\n",
              "SOLIN_Wm2      99.656641\n",
              "RH             97.785914\n",
              "windgust       95.858526\n",
              "wind_mph       63.513589\n",
              "windgust_dir   59.529984\n",
              "pres_Hg        23.419379\n",
              "dewtemp_F       9.876572\n",
              "wind_dir        1.439871\n",
              "temp_F          0.616646"
            ],
            "text/html": [
              "\n",
              "  <div id=\"df-1c9bee25-d3c8-4832-a64d-6482c0198108\">\n",
              "    <div class=\"colab-df-container\">\n",
              "      <div>\n",
              "<style scoped>\n",
              "    .dataframe tbody tr th:only-of-type {\n",
              "        vertical-align: middle;\n",
              "    }\n",
              "\n",
              "    .dataframe tbody tr th {\n",
              "        vertical-align: top;\n",
              "    }\n",
              "\n",
              "    .dataframe thead th {\n",
              "        text-align: right;\n",
              "    }\n",
              "</style>\n",
              "<table border=\"1\" class=\"dataframe\">\n",
              "  <thead>\n",
              "    <tr style=\"text-align: right;\">\n",
              "      <th></th>\n",
              "      <th>importance</th>\n",
              "    </tr>\n",
              "  </thead>\n",
              "  <tbody>\n",
              "    <tr>\n",
              "      <th>SOLIN_Wm2</th>\n",
              "      <td>99.656641</td>\n",
              "    </tr>\n",
              "    <tr>\n",
              "      <th>RH</th>\n",
              "      <td>97.785914</td>\n",
              "    </tr>\n",
              "    <tr>\n",
              "      <th>windgust</th>\n",
              "      <td>95.858526</td>\n",
              "    </tr>\n",
              "    <tr>\n",
              "      <th>wind_mph</th>\n",
              "      <td>63.513589</td>\n",
              "    </tr>\n",
              "    <tr>\n",
              "      <th>windgust_dir</th>\n",
              "      <td>59.529984</td>\n",
              "    </tr>\n",
              "    <tr>\n",
              "      <th>pres_Hg</th>\n",
              "      <td>23.419379</td>\n",
              "    </tr>\n",
              "    <tr>\n",
              "      <th>dewtemp_F</th>\n",
              "      <td>9.876572</td>\n",
              "    </tr>\n",
              "    <tr>\n",
              "      <th>wind_dir</th>\n",
              "      <td>1.439871</td>\n",
              "    </tr>\n",
              "    <tr>\n",
              "      <th>temp_F</th>\n",
              "      <td>0.616646</td>\n",
              "    </tr>\n",
              "  </tbody>\n",
              "</table>\n",
              "</div>\n",
              "      <button class=\"colab-df-convert\" onclick=\"convertToInteractive('df-1c9bee25-d3c8-4832-a64d-6482c0198108')\"\n",
              "              title=\"Convert this dataframe to an interactive table.\"\n",
              "              style=\"display:none;\">\n",
              "        \n",
              "  <svg xmlns=\"http://www.w3.org/2000/svg\" height=\"24px\"viewBox=\"0 0 24 24\"\n",
              "       width=\"24px\">\n",
              "    <path d=\"M0 0h24v24H0V0z\" fill=\"none\"/>\n",
              "    <path d=\"M18.56 5.44l.94 2.06.94-2.06 2.06-.94-2.06-.94-.94-2.06-.94 2.06-2.06.94zm-11 1L8.5 8.5l.94-2.06 2.06-.94-2.06-.94L8.5 2.5l-.94 2.06-2.06.94zm10 10l.94 2.06.94-2.06 2.06-.94-2.06-.94-.94-2.06-.94 2.06-2.06.94z\"/><path d=\"M17.41 7.96l-1.37-1.37c-.4-.4-.92-.59-1.43-.59-.52 0-1.04.2-1.43.59L10.3 9.45l-7.72 7.72c-.78.78-.78 2.05 0 2.83L4 21.41c.39.39.9.59 1.41.59.51 0 1.02-.2 1.41-.59l7.78-7.78 2.81-2.81c.8-.78.8-2.07 0-2.86zM5.41 20L4 18.59l7.72-7.72 1.47 1.35L5.41 20z\"/>\n",
              "  </svg>\n",
              "      </button>\n",
              "      \n",
              "  <style>\n",
              "    .colab-df-container {\n",
              "      display:flex;\n",
              "      flex-wrap:wrap;\n",
              "      gap: 12px;\n",
              "    }\n",
              "\n",
              "    .colab-df-convert {\n",
              "      background-color: #E8F0FE;\n",
              "      border: none;\n",
              "      border-radius: 50%;\n",
              "      cursor: pointer;\n",
              "      display: none;\n",
              "      fill: #1967D2;\n",
              "      height: 32px;\n",
              "      padding: 0 0 0 0;\n",
              "      width: 32px;\n",
              "    }\n",
              "\n",
              "    .colab-df-convert:hover {\n",
              "      background-color: #E2EBFA;\n",
              "      box-shadow: 0px 1px 2px rgba(60, 64, 67, 0.3), 0px 1px 3px 1px rgba(60, 64, 67, 0.15);\n",
              "      fill: #174EA6;\n",
              "    }\n",
              "\n",
              "    [theme=dark] .colab-df-convert {\n",
              "      background-color: #3B4455;\n",
              "      fill: #D2E3FC;\n",
              "    }\n",
              "\n",
              "    [theme=dark] .colab-df-convert:hover {\n",
              "      background-color: #434B5C;\n",
              "      box-shadow: 0px 1px 3px 1px rgba(0, 0, 0, 0.15);\n",
              "      filter: drop-shadow(0px 1px 2px rgba(0, 0, 0, 0.3));\n",
              "      fill: #FFFFFF;\n",
              "    }\n",
              "  </style>\n",
              "\n",
              "      <script>\n",
              "        const buttonEl =\n",
              "          document.querySelector('#df-1c9bee25-d3c8-4832-a64d-6482c0198108 button.colab-df-convert');\n",
              "        buttonEl.style.display =\n",
              "          google.colab.kernel.accessAllowed ? 'block' : 'none';\n",
              "\n",
              "        async function convertToInteractive(key) {\n",
              "          const element = document.querySelector('#df-1c9bee25-d3c8-4832-a64d-6482c0198108');\n",
              "          const dataTable =\n",
              "            await google.colab.kernel.invokeFunction('convertToInteractive',\n",
              "                                                     [key], {});\n",
              "          if (!dataTable) return;\n",
              "\n",
              "          const docLinkHtml = 'Like what you see? Visit the ' +\n",
              "            '<a target=\"_blank\" href=https://colab.research.google.com/notebooks/data_table.ipynb>data table notebook</a>'\n",
              "            + ' to learn more about interactive tables.';\n",
              "          element.innerHTML = '';\n",
              "          dataTable['output_type'] = 'display_data';\n",
              "          await google.colab.output.renderOutput(dataTable, element);\n",
              "          const docLink = document.createElement('div');\n",
              "          docLink.innerHTML = docLinkHtml;\n",
              "          element.appendChild(docLink);\n",
              "        }\n",
              "      </script>\n",
              "    </div>\n",
              "  </div>\n",
              "  "
            ]
          },
          "metadata": {},
          "execution_count": 65
        }
      ],
      "source": [
        "## Feature importance in Neural Network\n",
        "\n",
        "cols = x.columns.values\n",
        "nn_featimportance = []\n",
        "for var in cols:\n",
        "    # create a vector corresponding to a 1 where the feature is located:\n",
        "    inputvector = np.array((cols==var).astype(int).reshape(1, -1))\n",
        "    nn_featimportance.append(nn.predict(inputvector)[0][0]*100)\n",
        "\n",
        "pd.DataFrame( nn_featimportance,\n",
        "             index = x.columns,\n",
        "             columns=['importance']).sort_values('importance',ascending=False)    "
      ],
      "id": "FFC2hlq8PeP8"
    },
    {
      "cell_type": "code",
      "execution_count": null,
      "metadata": {
        "id": "DU5nLCYePeP9"
      },
      "outputs": [],
      "source": [],
      "id": "DU5nLCYePeP9"
    }
  ],
  "metadata": {
    "kernelspec": {
      "display_name": "Python 3",
      "language": "python",
      "name": "python3"
    },
    "language_info": {
      "codemirror_mode": {
        "name": "ipython",
        "version": 3
      },
      "file_extension": ".py",
      "mimetype": "text/x-python",
      "name": "python",
      "nbconvert_exporter": "python",
      "pygments_lexer": "ipython3",
      "version": "3.7.8"
    },
    "colab": {
      "provenance": [],
      "toc_visible": true
    }
  },
  "nbformat": 4,
  "nbformat_minor": 5
}