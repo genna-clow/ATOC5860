{
 "cells": [
  {
   "cell_type": "markdown",
   "id": "4a86abc4-1cc3-4e2d-825c-ce0a8baa8b14",
   "metadata": {},
   "source": [
    "# ATOC 5860 Homework 1: Genevieve Clow"
   ]
  },
  {
   "cell_type": "code",
   "execution_count": 1,
   "id": "308ae9af-65ac-4d18-aa25-49d650b7cea3",
   "metadata": {},
   "outputs": [],
   "source": [
    "import xarray as xr\n",
    "import numpy as np\n",
    "import pandas as pd\n",
    "import scipy.stats as stats\n",
    "\n",
    "# plotting\n",
    "import matplotlib.pyplot as plt"
   ]
  },
  {
   "cell_type": "markdown",
   "id": "027fe0e7-d76e-4c86-972a-ea2fef95ed4a",
   "metadata": {},
   "source": [
    "## 1. c)  \n",
    "Design your own homework problem to compare two sample means using data of your\n",
    "own choice. In other words, test whether two sample means are statistically different.\n",
    "Follow all five steps of hypothesis testing. Hint: See page 26 of Barnes notes for an\n",
    "example."
   ]
  },
  {
   "cell_type": "markdown",
   "id": "8dd70e4b-e31b-4c61-8587-0e43a82364d9",
   "metadata": {
    "tags": []
   },
   "source": [
    "### Compare satellite chlor using MODIS and ISCCP clouds \n",
    "\n",
    "Hypothesis testing: \n",
    "1. State the signicance level: \n",
    "- 95% (alpha = 0.05)\n",
    "2. State the null hypothesis H0 and the alternative H1\n",
    "- H0 = The global mean of the two chlorophyll samples are equal.\n",
    "- H1 = The global mean of the two chlorophyll samples are NOT equal.\n",
    "3. State the statistic to be used, and the assumptions required to use it\n",
    "- I will use a two-sided t-test. Since I am using annual means, the small sample sizes are small (30). I am assuming that the two samples are drawn from normal distributions with equal standard deviations. \n",
    "4. State the critical region\n",
    "- tcrit = 2.045 (if t > tcrit, reject the null hypothesis)\n",
    "5. Evaluate the statistic and state the conclusion"
   ]
  },
  {
   "cell_type": "code",
   "execution_count": 2,
   "id": "c113b3b3-a254-46da-852e-13d825771418",
   "metadata": {},
   "outputs": [
    {
     "name": "stdout",
     "output_type": "stream",
     "text": [
      "2.045229642132703\n"
     ]
    }
   ],
   "source": [
    "# We have 30 years of data for each sample\n",
    "# N1 = N2 = 30\n",
    "N = 30 \n",
    "df = N - 1 \n",
    "tcrit = stats.t.ppf(0.975,df)\n",
    "print(tcrit)"
   ]
  },
  {
   "cell_type": "markdown",
   "id": "32985cc4-35dc-4851-88d0-7fd6ccfdf6c7",
   "metadata": {},
   "source": [
    "## Import data"
   ]
  },
  {
   "cell_type": "code",
   "execution_count": 3,
   "id": "9040e3c4-9c6b-428c-9896-8c8d1ffe3bf7",
   "metadata": {
    "tags": []
   },
   "outputs": [],
   "source": [
    "TAREA = xr.open_dataset('/glade/scratch/gclow/archive/b.e22.B1850.f09_g17.cosp_chlor_30yr/ocn/hist/b.e22.B1850.f09_g17.cosp_chlor_30yr.pop.h.nday1.0001-01-01.nc').TAREA\n",
    "\n",
    "base = '/glade/scratch/gclow/archive/b.e22.B1850.f09_g17.cosp_chlor_30yr/ocn/daily/b.e22.B1850.f09_g17.cosp_chlor_30yr.pop.h.ecosys.nday1.'\n",
    "\n",
    "data = xr.open_mfdataset(base+'*.nc', concat_dim=\"time\", parallel = True, chunks = {'time':120},\n",
    "                              data_vars='minimal', compat='override', \n",
    "                              coords='minimal')"
   ]
  },
  {
   "cell_type": "markdown",
   "id": "3bfed290-8a14-406c-9937-fdd39c9669b5",
   "metadata": {
    "tags": []
   },
   "source": [
    "# Calculate weighted global mean for each year"
   ]
  },
  {
   "cell_type": "code",
   "execution_count": 4,
   "id": "6d6135b4-b4d8-4481-bb01-e884025aecd7",
   "metadata": {},
   "outputs": [],
   "source": [
    "isccp_global_mean = ((data.totChl_isccp*TAREA).groupby('time.year').sum(dim = ['time','nlat','nlon'])/(data.totChl_isccp_wgt*TAREA).groupby('time.year').sum(dim = ['time','nlat','nlon'])).compute()\n",
    "modis_global_mean = ((data.totChl_modis*TAREA).groupby('time.year').sum(dim = ['time','nlat','nlon'])/(data.totChl_modis_wgt*TAREA).groupby('time.year').sum(dim = ['time','nlat','nlon'])).compute()"
   ]
  },
  {
   "cell_type": "code",
   "execution_count": 5,
   "id": "33565093-35c4-4a6e-a206-dfe03e87ed27",
   "metadata": {},
   "outputs": [
    {
     "name": "stdout",
     "output_type": "stream",
     "text": [
      "ISCCP Mean: 0.17920853679212384\n",
      "ISCCP Standard Dev.: 0.006816497004583403\n"
     ]
    },
    {
     "data": {
      "image/png": "[encoded data removed]",
      "text/plain": [
       "<Figure size 432x288 with 1 Axes>"
      ]
     },
     "metadata": {
      "needs_background": "light"
     },
     "output_type": "display_data"
    }
   ],
   "source": [
    "isccp_mean = isccp_global_mean.mean().data\n",
    "isccp_std = isccp_global_mean.std().data\n",
    "isccp_var = isccp_global_mean.var().data\n",
    "\n",
    "print('ISCCP Mean:',isccp_mean)\n",
    "print('ISCCP Standard Dev.:',isccp_std)\n",
    "xr.plot.hist(isccp_global_mean);"
   ]
  },
  {
   "cell_type": "code",
   "execution_count": 6,
   "id": "03f84dbf-b353-4209-886e-8513da198f1b",
   "metadata": {},
   "outputs": [
    {
     "name": "stdout",
     "output_type": "stream",
     "text": [
      "MODIS Mean: 0.18436608881392358\n",
      "MODIS Standard Dev.: 0.006701004950137194\n"
     ]
    },
    {
     "data": {
      "image/png": "[encoded data removed]",
      "text/plain": [
       "<Figure size 432x288 with 1 Axes>"
      ]
     },
     "metadata": {
      "needs_background": "light"
     },
     "output_type": "display_data"
    }
   ],
   "source": [
    "modis_mean = modis_global_mean.mean().data\n",
    "modis_std = modis_global_mean.std().data\n",
    "modis_var = modis_global_mean.var().data\n",
    "\n",
    "print('MODIS Mean:',modis_mean)\n",
    "print('MODIS Standard Dev.:',modis_std)\n",
    "xr.plot.hist(modis_global_mean);"
   ]
  },
  {
   "cell_type": "code",
   "execution_count": 7,
   "id": "0f1f6440-8d19-44d2-8749-054d00589a8d",
   "metadata": {},
   "outputs": [
    {
     "name": "stdout",
     "output_type": "stream",
     "text": [
      "0.00687454445218978\n"
     ]
    }
   ],
   "source": [
    "sigma = np.sqrt((N*isccp_var + N*modis_var)/(N+N-2))\n",
    "print(sigma)"
   ]
  },
  {
   "cell_type": "markdown",
   "id": "db2ed3dc-13a1-4abe-99aa-cb1b0711f49c",
   "metadata": {},
   "source": [
    "**Barnes Eq. 101**\n",
    "\n",
    "$$ \n",
    "\n",
    "t = \\frac{\\bar{x_{1}} - \\bar{x_{2}}{\\hat{\\sigma}\\sqrt{1/N_{1} + 1/N_{2}}} \n",
    "\n",
    "\\hat{\\sigma} = \\sqrt{\\frac{N_{1}s_{1}^2+N_{2}s_{2}^2}{N_{1}+N_{2}-2}} \n",
    "\n",
    "$$"
   ]
  },
  {
   "cell_type": "code",
   "execution_count": 8,
   "id": "96d90b7f-b46b-4855-9587-08d5abfd5205",
   "metadata": {},
   "outputs": [
    {
     "name": "stdout",
     "output_type": "stream",
     "text": [
      "-2.9056635281870955\n"
     ]
    }
   ],
   "source": [
    "t = (isccp_mean - modis_mean)/(sigma*np.sqrt((1/N)+(1/N)))\n",
    "print(t)"
   ]
  },
  {
   "cell_type": "code",
   "execution_count": 9,
   "id": "123a624c-7041-4484-a2f4-d4a997e78000",
   "metadata": {},
   "outputs": [
    {
     "data": {
      "text/plain": [
       "True"
      ]
     },
     "execution_count": 9,
     "metadata": {},
     "output_type": "execute_result"
    }
   ],
   "source": [
    "abs(t) > tcrit"
   ]
  },
  {
   "cell_type": "markdown",
   "id": "1a64bfae-ed60-4581-b278-f1b6b83ff71a",
   "metadata": {},
   "source": [
    "Since t > tcrit, we can reject the null hypothesis. This means that there is a 95% chance that the difference in means did not occur by chance."
   ]
  },
  {
   "cell_type": "markdown",
   "id": "fdd44186-a1d2-44c5-bd21-94207d8af20d",
   "metadata": {},
   "source": [
    "## 1. d)\n",
    "\n",
    "Design your own homework problem to place 95% confidence intervals on the mean\n",
    "value of a data variable of your choice. Use the non-standardized variable. Hint: See\n",
    "Barnes notes on Confidence Intervals."
   ]
  },
  {
   "cell_type": "markdown",
   "id": "4dd92dde-7ead-441c-b935-f6c48f8f195c",
   "metadata": {},
   "source": [
    "**Barnes Eq. 100** \n",
    "\n",
    "$$\n",
    "\\mu = \\bar{x} \\pm t_{c}\\frac{s}{\\sqrt{N-1}}\n",
    "$$"
   ]
  },
  {
   "cell_type": "code",
   "execution_count": 10,
   "id": "890dc53d-715c-480c-b090-344b6076d47b",
   "metadata": {},
   "outputs": [
    {
     "name": "stdout",
     "output_type": "stream",
     "text": [
      "2.045229642132703\n"
     ]
    }
   ],
   "source": [
    "N = 30 \n",
    "df = N - 1 \n",
    "tcrit = stats.t.ppf(0.975,df)\n",
    "print(tcrit)"
   ]
  },
  {
   "cell_type": "code",
   "execution_count": 11,
   "id": "aa0820d3-bdea-4f1c-908e-caf6034cddb1",
   "metadata": {},
   "outputs": [],
   "source": [
    "diff = tcrit*(isccp_std/np.sqrt(N-1))"
   ]
  },
  {
   "cell_type": "code",
   "execution_count": 12,
   "id": "8f1bce21-4583-465b-9581-58674b62e2bc",
   "metadata": {},
   "outputs": [
    {
     "name": "stdout",
     "output_type": "stream",
     "text": [
      "0.177 <= μ <= 0.182\n"
     ]
    }
   ],
   "source": [
    "print(round(isccp_mean-diff,3), '<= \\u03BC <=', round(isccp_mean+diff,3))"
   ]
  },
  {
   "cell_type": "markdown",
   "id": "0e661519-6a26-47e5-bcd4-d3a69391dfa5",
   "metadata": {},
   "source": [
    "## 1. e)\n",
    "\n",
    "The F-statistic is used to compare two sample standard deviations. Design your own\n",
    "homework problem to compare two sample standard deviations and assess if they are\n",
    "different at the 95% confidence interval. Hint: See page 38 of the Barnes notes. Note:\n",
    "When calculating the f-statistic Barnes Chapter 1 Equation (122), the larger variance\n",
    "should always be on top (numerator) and the smaller variance should always be on\n",
    "bottom (denominator). i.e., F = Larger variance / Smaller variance."
   ]
  },
  {
   "cell_type": "markdown",
   "id": "e3329ec9-a10c-4a90-80b9-85ba409f53ee",
   "metadata": {},
   "source": [
    "Steps:\n",
    "1) State significance level. alpha=0.05; 95% confidence\n",
    "2) Null Hypothesis = The standard deviation for both chlorophyll samples are the same.\n",
    "3) We will use the f-statistic. We will assume data1 and data2 come from normal populations having the same true variance.\n",
    "4) Find critical value to exceed to reject the null hypothsis (fcrit)"
   ]
  },
  {
   "cell_type": "markdown",
   "id": "dbf6a53b-311b-453e-8bf1-457df7ccdfd3",
   "metadata": {},
   "source": [
    "**Barnes Eq. 122** \n",
    "\n",
    "$$\n",
    "F = \\frac{s_{1}^2}{s_{2}^2}\n",
    "$$"
   ]
  },
  {
   "cell_type": "code",
   "execution_count": 13,
   "id": "244a8f09-8472-4b38-8f89-97f522be822c",
   "metadata": {},
   "outputs": [
    {
     "name": "stdout",
     "output_type": "stream",
     "text": [
      "2.100995817284212\n"
     ]
    }
   ],
   "source": [
    "# use 0.975 because this function calculates the lower-tail probability\n",
    "fcrit = stats.f.ppf(q = 0.975, dfn = N-1, dfd = N-1)\n",
    "print(fcrit)"
   ]
  },
  {
   "cell_type": "code",
   "execution_count": 14,
   "id": "97545241-ea7e-43bb-b288-4fa5b40cdda0",
   "metadata": {},
   "outputs": [
    {
     "name": "stdout",
     "output_type": "stream",
     "text": [
      "1.0347671163086183\n"
     ]
    }
   ],
   "source": [
    "f = isccp_var/modis_var\n",
    "print(f)"
   ]
  },
  {
   "cell_type": "code",
   "execution_count": 15,
   "id": "e38637fe-4bc1-4ef1-a31d-526cc237cb79",
   "metadata": {},
   "outputs": [
    {
     "data": {
      "text/plain": [
       "False"
      ]
     },
     "execution_count": 15,
     "metadata": {},
     "output_type": "execute_result"
    }
   ],
   "source": [
    "abs(f) > fcrit"
   ]
  },
  {
   "cell_type": "markdown",
   "id": "25fb1fc0-6783-43da-ab17-d93cf5b47f9f",
   "metadata": {},
   "source": [
    "We cannot reject our null hypothesis that the two samples have different variances"
   ]
  },
  {
   "cell_type": "markdown",
   "id": "68907624-a352-44cf-a623-d7e6ef4512f7",
   "metadata": {
    "tags": []
   },
   "source": [
    "# Problem 2"
   ]
  },
  {
   "cell_type": "markdown",
   "id": "b35cdd0a-5df9-40f9-bdeb-924db69a4cc8",
   "metadata": {},
   "source": [
    "## Load data and make exploratory plots"
   ]
  },
  {
   "cell_type": "code",
   "execution_count": 16,
   "id": "af58a538-031e-4bc4-bd92-40a52192a7c8",
   "metadata": {},
   "outputs": [
    {
     "data": {
      "text/html": [
       "<div>\n",
       "<style scoped>\n",
       "    .dataframe tbody tr th:only-of-type {\n",
       "        vertical-align: middle;\n",
       "    }\n",
       "\n",
       "    .dataframe tbody tr th {\n",
       "        vertical-align: top;\n",
       "    }\n",
       "\n",
       "    .dataframe thead th {\n",
       "        text-align: right;\n",
       "    }\n",
       "</style>\n",
       "<table border=\"1\" class=\"dataframe\">\n",
       "  <thead>\n",
       "    <tr style=\"text-align: right;\">\n",
       "      <th></th>\n",
       "      <th>P_hPa</th>\n",
       "      <th>R_inches</th>\n",
       "    </tr>\n",
       "  </thead>\n",
       "  <tbody>\n",
       "    <tr>\n",
       "      <th>0</th>\n",
       "      <td>842.63</td>\n",
       "      <td>0.0</td>\n",
       "    </tr>\n",
       "    <tr>\n",
       "      <th>1</th>\n",
       "      <td>842.58</td>\n",
       "      <td>0.0</td>\n",
       "    </tr>\n",
       "    <tr>\n",
       "      <th>2</th>\n",
       "      <td>842.13</td>\n",
       "      <td>0.0</td>\n",
       "    </tr>\n",
       "    <tr>\n",
       "      <th>3</th>\n",
       "      <td>842.38</td>\n",
       "      <td>0.0</td>\n",
       "    </tr>\n",
       "    <tr>\n",
       "      <th>4</th>\n",
       "      <td>842.57</td>\n",
       "      <td>0.0</td>\n",
       "    </tr>\n",
       "  </tbody>\n",
       "</table>\n",
       "</div>"
      ],
      "text/plain": [
       "    P_hPa  R_inches\n",
       "0  842.63       0.0\n",
       "1  842.58       0.0\n",
       "2  842.13       0.0\n",
       "3  842.38       0.0\n",
       "4  842.57       0.0"
      ]
     },
     "execution_count": 16,
     "metadata": {},
     "output_type": "execute_result"
    }
   ],
   "source": [
    "data = pd.read_csv('homework1_data.csv')\n",
    "data.head()"
   ]
  },
  {
   "cell_type": "code",
   "execution_count": 47,
   "id": "b758db6c-e2f7-4c27-8cf4-414dc2cb0032",
   "metadata": {},
   "outputs": [
    {
     "data": {
      "image/png": "[encoded data removed]",
      "text/plain": [
       "<Figure size 432x288 with 1 Axes>"
      ]
     },
     "metadata": {
      "needs_background": "light"
     },
     "output_type": "display_data"
    }
   ],
   "source": [
    "data['P_hPa'].plot()\n",
    "plt.xlabel('Time (hr)');\n",
    "plt.ylabel('Pressure (hPA)');"
   ]
  },
  {
   "cell_type": "code",
   "execution_count": 48,
   "id": "d3b95e60-86c7-4e90-a14a-7e7636756657",
   "metadata": {},
   "outputs": [
    {
     "data": {
      "image/png": "[encoded data removed]",
      "text/plain": [
       "<Figure size 432x288 with 1 Axes>"
      ]
     },
     "metadata": {
      "needs_background": "light"
     },
     "output_type": "display_data"
    }
   ],
   "source": [
    "plt.hist(data['P_hPa'])\n",
    "plt.xlabel('Pressure (hPa)');\n",
    "plt.ylabel('Count');"
   ]
  },
  {
   "cell_type": "code",
   "execution_count": 46,
   "id": "5c160fc2-7e0d-47d7-8720-e884e8bdee90",
   "metadata": {},
   "outputs": [
    {
     "data": {
      "image/png": "[encoded data removed]",
      "text/plain": [
       "<Figure size 432x288 with 1 Axes>"
      ]
     },
     "metadata": {
      "needs_background": "light"
     },
     "output_type": "display_data"
    }
   ],
   "source": [
    "data['R_inches'].plot()\n",
    "plt.xlabel('Time (hr)');\n",
    "plt.ylabel('Rain (in)');"
   ]
  },
  {
   "cell_type": "code",
   "execution_count": 45,
   "id": "22882f3e-6384-4cbb-b305-4e107f102b93",
   "metadata": {},
   "outputs": [
    {
     "data": {
      "image/png": "[encoded data removed]",
      "text/plain": [
       "<Figure size 432x288 with 1 Axes>"
      ]
     },
     "metadata": {
      "needs_background": "light"
     },
     "output_type": "display_data"
    }
   ],
   "source": [
    "plt.hist(data['R_inches'])\n",
    "plt.xlabel('Rain (in)');\n",
    "plt.ylabel('Count');"
   ]
  },
  {
   "cell_type": "markdown",
   "id": "7490c477-2267-4a09-9dd0-d37b76887db4",
   "metadata": {},
   "source": [
    "## 2.a) "
   ]
  },
  {
   "cell_type": "code",
   "execution_count": 21,
   "id": "fe5950fe-0519-4f8b-97fe-edacdb287454",
   "metadata": {},
   "outputs": [
    {
     "data": {
      "text/plain": [
       "846.3322317351593"
      ]
     },
     "execution_count": 21,
     "metadata": {},
     "output_type": "execute_result"
    }
   ],
   "source": [
    "# Average pressure \n",
    "data['P_hPa'].mean()"
   ]
  },
  {
   "cell_type": "code",
   "execution_count": 22,
   "id": "0ffa2660-b355-4ab3-9296-be0797ac8cc4",
   "metadata": {},
   "outputs": [
    {
     "data": {
      "text/plain": [
       "847.0306249999999"
      ]
     },
     "execution_count": 22,
     "metadata": {},
     "output_type": "execute_result"
    }
   ],
   "source": [
    "# Average pressure when it rained\n",
    "data_rain = data[data['R_inches']>=0.01].copy()\n",
    "data_rain['P_hPa'].mean()"
   ]
  },
  {
   "cell_type": "markdown",
   "id": "ab638a07-58b1-438d-aa27-f47fcb7419fb",
   "metadata": {},
   "source": [
    "## 2.b)"
   ]
  },
  {
   "cell_type": "markdown",
   "id": "afdbfa23-ec27-44ae-bc0b-cb8d4ae026ee",
   "metadata": {},
   "source": [
    "**For the t-test:** \n",
    "\n",
    "$$\n",
    "\\mu = \\bar{x} \\pm t_{c}\\frac{s}{\\sqrt{N-1}}\n",
    "$$\n",
    "\n",
    "**For the z-test:** \n",
    "\n",
    "$$\n",
    "\\mu = \\bar{x} \\pm z_{c}\\frac{s}{\\sqrt{N}}\n",
    "$$"
   ]
  },
  {
   "cell_type": "code",
   "execution_count": 23,
   "id": "2811444d-cc8e-4614-95cc-0cde31d868ad",
   "metadata": {},
   "outputs": [
    {
     "name": "stdout",
     "output_type": "stream",
     "text": [
      "384\n"
     ]
    }
   ],
   "source": [
    "N = data_rain['P_hPa'].count()\n",
    "print(N)"
   ]
  },
  {
   "cell_type": "code",
   "execution_count": 24,
   "id": "db8f017b-e803-4468-9172-642868b4f814",
   "metadata": {},
   "outputs": [],
   "source": [
    "tcrit = stats.t.ppf(0.975, N-1)\n",
    "zcrit = stats.norm.ppf(0.975)"
   ]
  },
  {
   "cell_type": "code",
   "execution_count": 25,
   "id": "e1cd8b90-f8bf-4c59-8402-5fc3f86d854b",
   "metadata": {},
   "outputs": [
    {
     "name": "stdout",
     "output_type": "stream",
     "text": [
      "z-stat confidence interval:  846.492 - 847.569\n"
     ]
    }
   ],
   "source": [
    "# z-stat\n",
    "low_lim = data_rain['P_hPa'].mean()-zcrit*(data_rain['P_hPa'].std()/np.sqrt(N))\n",
    "high_lim = data_rain['P_hPa'].mean()+zcrit*(data_rain['P_hPa'].std()/np.sqrt(N))\n",
    "print('z-stat confidence interval: ', round(low_lim,3), '-', round(high_lim,3))"
   ]
  },
  {
   "cell_type": "code",
   "execution_count": 26,
   "id": "43d5840d-33cb-4455-90ad-41ee8750d840",
   "metadata": {},
   "outputs": [
    {
     "name": "stdout",
     "output_type": "stream",
     "text": [
      "t-stat confidence interval:  846.489 - 847.572\n"
     ]
    }
   ],
   "source": [
    "# t-stat\n",
    "low_lim = data_rain['P_hPa'].mean()-tcrit*(data_rain['P_hPa'].std()/np.sqrt(N-1))\n",
    "high_lim = data_rain['P_hPa'].mean()+tcrit*(data_rain['P_hPa'].std()/np.sqrt(N-1))\n",
    "print('t-stat confidence interval: ', round(low_lim,3), '-', round(high_lim,3))"
   ]
  },
  {
   "cell_type": "markdown",
   "id": "49a1058f-0831-41ab-aa3e-cf4825d220d6",
   "metadata": {},
   "source": [
    "The mean of all data (846.332) lies outside of the 95% confidence range of the rainy data. The z-statistic and t-statistic are very similar in this case, so I would argue that either would be appropriate. This indicates that we have a large enough sample where sample size doesn't significantly change our results.\n",
    "\n",
    "However, I suspect that there is high auto-correlation in this dataset, so the true number of independent samples may be lower. "
   ]
  },
  {
   "cell_type": "markdown",
   "id": "465a1bcb-e7e7-45d9-8065-18b9af20fe94",
   "metadata": {},
   "source": [
    "## 2.c)"
   ]
  },
  {
   "cell_type": "code",
   "execution_count": 49,
   "id": "f7df31b0-b18a-4981-bf15-68e1f3b0c2cb",
   "metadata": {},
   "outputs": [],
   "source": [
    "N_b = 1000\n",
    "\n",
    "## initialize array\n",
    "P_Bootstrap=np.empty((N_b,N))\n",
    "\n",
    "## loop over to fill in array with randomly selected values\n",
    "for i in range(N_b):\n",
    "    P_Bootstrap[i,:]=np.random.choice(data['P_hPa'],N)"
   ]
  },
  {
   "cell_type": "code",
   "execution_count": 50,
   "id": "943440da-c3bd-455c-aa11-eeb1d6deb866",
   "metadata": {},
   "outputs": [
    {
     "name": "stdout",
     "output_type": "stream",
     "text": [
      "Mean: 846.3339603645834\n",
      "Standard Dev: 0.279108109245874\n",
      "Min: 845.4586458333333\n",
      "Max: 847.1797656250001\n"
     ]
    }
   ],
   "source": [
    "## Calculate the means of your randomly selected SWE values.\n",
    "P_Bootstrap_mean=np.mean(P_Bootstrap,axis=1)\n",
    "\n",
    "P_Bootstrap_mean_avg=np.mean(P_Bootstrap_mean)\n",
    "print('Mean:',P_Bootstrap_mean_avg)\n",
    "P_Bootstrap_mean_std=np.std(P_Bootstrap_mean)\n",
    "print('Standard Dev:',P_Bootstrap_mean_std)\n",
    "P_Bootstrap_mean_min=np.min(P_Bootstrap_mean)\n",
    "print('Min:', P_Bootstrap_mean_min)\n",
    "P_Bootstrap_mean_max=np.max(P_Bootstrap_mean)\n",
    "print('Max:', P_Bootstrap_mean_max)"
   ]
  },
  {
   "cell_type": "code",
   "execution_count": 57,
   "id": "f0e97049-0aa8-4972-b9f1-0ec049321053",
   "metadata": {},
   "outputs": [
    {
     "data": {
      "image/png": "[encoded data removed]",
      "text/plain": [
       "<Figure size 432x288 with 1 Axes>"
      ]
     },
     "metadata": {
      "needs_background": "light"
     },
     "output_type": "display_data"
    }
   ],
   "source": [
    "plt.hist(P_Bootstrap_mean)\n",
    "plt.xlabel('Mean Pressure (hPa)');\n",
    "plt.ylabel('Count');\n",
    "plt.title('Bootstrapped Randomly Selected Mean Pressure Values');"
   ]
  },
  {
   "cell_type": "markdown",
   "id": "d7a6ddb0-e8c3-4975-ad72-41494c264758",
   "metadata": {},
   "source": [
    "**Barnes eq. 83**\n",
    "\n",
    "$$\n",
    "z = \\frac{\\bar{\\chi} - \\mu}{\\frac{\\sigma}{\\sqrt{N}}}\n",
    "$$\n",
    "\n",
    "where \n",
    "- $\\bar{\\chi}$ = sample mean \n",
    "- $\\mu$ = population mean "
   ]
  },
  {
   "cell_type": "code",
   "execution_count": 64,
   "id": "bb93e272-d39c-4d79-91ae-7118b85aed06",
   "metadata": {},
   "outputs": [
    {
     "name": "stdout",
     "output_type": "stream",
     "text": [
      "2.4960386758335686\n"
     ]
    }
   ],
   "source": [
    "# sample_N is 1 because we are comparing the sample mean to a distribution of means\n",
    "sample_N = 1\n",
    "sample_mean=data_rain['P_hPa'].mean() # rainy days only\n",
    "population_mean=np.mean(P_Bootstrap_mean)\n",
    "population_std=np.std(P_Bootstrap_mean)\n",
    "xstd=population_std/np.sqrt(sample_N)\n",
    "z =(sample_mean-population_mean)/xstd\n",
    "print(z)"
   ]
  },
  {
   "cell_type": "code",
   "execution_count": 66,
   "id": "0b275ff0-4d7f-4ab6-b462-7ba5678a4d5f",
   "metadata": {},
   "outputs": [
    {
     "name": "stdout",
     "output_type": "stream",
     "text": [
      "1.959963984540054\n"
     ]
    }
   ],
   "source": [
    "zcrit = stats.norm.ppf(0.975)\n",
    "print(zcrit)"
   ]
  },
  {
   "cell_type": "markdown",
   "id": "00d28dc9-1cc1-4c1c-8b3d-efbe14c7707c",
   "metadata": {},
   "source": [
    "z > zcrit, so we can reject the null hypothesis. This is consistent with what we found previously. "
   ]
  }
 ],
 "metadata": {
  "kernelspec": {
   "display_name": "Python [conda env:my-npl-ml]",
   "language": "python",
   "name": "conda-env-my-npl-ml-py"
  },
  "language_info": {
   "codemirror_mode": {
    "name": "ipython",
    "version": 3
   },
   "file_extension": ".py",
   "mimetype": "text/x-python",
   "name": "python",
   "nbconvert_exporter": "python",
   "pygments_lexer": "ipython3",
   "version": "3.7.12"
  }
 },
 "nbformat": 4,
 "nbformat_minor": 5
}
